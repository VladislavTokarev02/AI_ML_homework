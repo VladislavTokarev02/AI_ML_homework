{
  "cells": [
    {
      "cell_type": "markdown",
      "metadata": {
        "id": "view-in-github",
        "colab_type": "text"
      },
      "source": [
        "<a href=\"https://colab.research.google.com/github/VladislavTokarev02/AI_ML_homework/blob/main/ai24-toxicity-prediction%20/notebooks/Vlad_baseline_model.ipynb\" target=\"_parent\"><img src=\"https://colab.research.google.com/assets/colab-badge.svg\" alt=\"Open In Colab\"/></a>"
      ]
    },
    {
      "cell_type": "code",
      "execution_count": 54,
      "id": "ec25985a",
      "metadata": {
        "id": "ec25985a"
      },
      "outputs": [],
      "source": [
        "import pandas as pd\n",
        "from sklearn.model_selection import train_test_split\n",
        "from sklearn.preprocessing import MinMaxScaler, OneHotEncoder\n",
        "from sklearn.linear_model import LinearRegression\n",
        "from sklearn.metrics import mean_squared_error, r2_score,  mean_absolute_percentage_error\n",
        "from sklearn.linear_model import LinearRegression, Lasso, Ridge, ElasticNet\n",
        "from sklearn.model_selection import GridSearchCV\n",
        "from sklearn.compose import ColumnTransformer\n",
        "from sklearn.pipeline import Pipeline\n",
        "from sklearn import impute\n",
        "from sklearn import preprocessing\n",
        "import numpy as np\n",
        "import warnings\n",
        "import random\n",
        "import matplotlib.pyplot as plt\n",
        "from sklearn.model_selection import cross_val_score, KFold, train_test_split\n"
      ]
    },
    {
      "cell_type": "code",
      "source": [
        "import gc\n",
        "\n",
        "gc.collect()  #сборка мусора"
      ],
      "metadata": {
        "colab": {
          "base_uri": "https://localhost:8080/"
        },
        "id": "9fd6yVSCsA9C",
        "outputId": "b89df839-06e6-45de-e2a2-db22fa7dc5a5"
      },
      "id": "9fd6yVSCsA9C",
      "execution_count": 2,
      "outputs": [
        {
          "output_type": "execute_result",
          "data": {
            "text/plain": [
              "9"
            ]
          },
          "metadata": {},
          "execution_count": 2
        }
      ]
    },
    {
      "cell_type": "code",
      "execution_count": 3,
      "id": "7c84eea4",
      "metadata": {
        "id": "7c84eea4"
      },
      "outputs": [],
      "source": [
        "df = pd.read_csv('/content/resultwithfeatures.csv', low_memory = False)"
      ]
    },
    {
      "cell_type": "code",
      "execution_count": 4,
      "id": "4764569e",
      "metadata": {
        "id": "4764569e"
      },
      "outputs": [],
      "source": [
        "random.seed(42)\n",
        "np.random.seed(42)"
      ]
    },
    {
      "cell_type": "code",
      "execution_count": 5,
      "id": "e8ac9f3b",
      "metadata": {
        "colab": {
          "base_uri": "https://localhost:8080/",
          "height": 262
        },
        "id": "e8ac9f3b",
        "outputId": "50f8a7fc-d10f-43b0-8a02-a97205749775"
      },
      "outputs": [
        {
          "output_type": "execute_result",
          "data": {
            "text/plain": [
              "   Source                                    Smiles Exp. Animal  \\\n",
              "0  ChEMBL  Br.Br.Cc1cc(-c2ccc(O)cc2)nnc1NCCN1CCOCC1       mouse   \n",
              "1  ChEMBL  Br.Br.Cc1cc(-c2cccc(O)c2)nnc1NCCN1CCOCC1       mouse   \n",
              "2  ChEMBL    Br.Br.Cc1cc(-c2ccccc2O)nnc1NCCN1CCOCC1       mouse   \n",
              "\n",
              "  Method of administration   LD50 LD50 (a.u.)  Carcinogenicity  \\\n",
              "0          intraperitoneal  300.0       mg/kg              NaN   \n",
              "1          intraperitoneal  200.0       mg/kg              NaN   \n",
              "2          intraperitoneal  200.0       mg/kg              NaN   \n",
              "\n",
              "   Carcinogenicity (a.u.)  Hepatoxicity  Hepatoxicity (a.u.)  ...  \\\n",
              "0                     NaN           NaN                  NaN  ...   \n",
              "1                     NaN           NaN                  NaN  ...   \n",
              "2                     NaN           NaN                  NaN  ...   \n",
              "\n",
              "   MorganFP_1015  MorganFP_1016  MorganFP_1017  MorganFP_1018  MorganFP_1019  \\\n",
              "0              0              0              0              0              0   \n",
              "1              0              0              0              0              0   \n",
              "2              0              0              0              0              0   \n",
              "\n",
              "   MorganFP_1020  MorganFP_1021  MorganFP_1022  MorganFP_1023 MorganFP_1024  \n",
              "0              0              0              0              0             0  \n",
              "1              0              0              0              0             0  \n",
              "2              0              0              0              0             0  \n",
              "\n",
              "[3 rows x 1422 columns]"
            ],
            "text/html": [
              "\n",
              "  <div id=\"df-35584fc4-cb22-484e-9b48-428956347541\" class=\"colab-df-container\">\n",
              "    <div>\n",
              "<style scoped>\n",
              "    .dataframe tbody tr th:only-of-type {\n",
              "        vertical-align: middle;\n",
              "    }\n",
              "\n",
              "    .dataframe tbody tr th {\n",
              "        vertical-align: top;\n",
              "    }\n",
              "\n",
              "    .dataframe thead th {\n",
              "        text-align: right;\n",
              "    }\n",
              "</style>\n",
              "<table border=\"1\" class=\"dataframe\">\n",
              "  <thead>\n",
              "    <tr style=\"text-align: right;\">\n",
              "      <th></th>\n",
              "      <th>Source</th>\n",
              "      <th>Smiles</th>\n",
              "      <th>Exp. Animal</th>\n",
              "      <th>Method of administration</th>\n",
              "      <th>LD50</th>\n",
              "      <th>LD50 (a.u.)</th>\n",
              "      <th>Carcinogenicity</th>\n",
              "      <th>Carcinogenicity (a.u.)</th>\n",
              "      <th>Hepatoxicity</th>\n",
              "      <th>Hepatoxicity (a.u.)</th>\n",
              "      <th>...</th>\n",
              "      <th>MorganFP_1015</th>\n",
              "      <th>MorganFP_1016</th>\n",
              "      <th>MorganFP_1017</th>\n",
              "      <th>MorganFP_1018</th>\n",
              "      <th>MorganFP_1019</th>\n",
              "      <th>MorganFP_1020</th>\n",
              "      <th>MorganFP_1021</th>\n",
              "      <th>MorganFP_1022</th>\n",
              "      <th>MorganFP_1023</th>\n",
              "      <th>MorganFP_1024</th>\n",
              "    </tr>\n",
              "  </thead>\n",
              "  <tbody>\n",
              "    <tr>\n",
              "      <th>0</th>\n",
              "      <td>ChEMBL</td>\n",
              "      <td>Br.Br.Cc1cc(-c2ccc(O)cc2)nnc1NCCN1CCOCC1</td>\n",
              "      <td>mouse</td>\n",
              "      <td>intraperitoneal</td>\n",
              "      <td>300.0</td>\n",
              "      <td>mg/kg</td>\n",
              "      <td>NaN</td>\n",
              "      <td>NaN</td>\n",
              "      <td>NaN</td>\n",
              "      <td>NaN</td>\n",
              "      <td>...</td>\n",
              "      <td>0</td>\n",
              "      <td>0</td>\n",
              "      <td>0</td>\n",
              "      <td>0</td>\n",
              "      <td>0</td>\n",
              "      <td>0</td>\n",
              "      <td>0</td>\n",
              "      <td>0</td>\n",
              "      <td>0</td>\n",
              "      <td>0</td>\n",
              "    </tr>\n",
              "    <tr>\n",
              "      <th>1</th>\n",
              "      <td>ChEMBL</td>\n",
              "      <td>Br.Br.Cc1cc(-c2cccc(O)c2)nnc1NCCN1CCOCC1</td>\n",
              "      <td>mouse</td>\n",
              "      <td>intraperitoneal</td>\n",
              "      <td>200.0</td>\n",
              "      <td>mg/kg</td>\n",
              "      <td>NaN</td>\n",
              "      <td>NaN</td>\n",
              "      <td>NaN</td>\n",
              "      <td>NaN</td>\n",
              "      <td>...</td>\n",
              "      <td>0</td>\n",
              "      <td>0</td>\n",
              "      <td>0</td>\n",
              "      <td>0</td>\n",
              "      <td>0</td>\n",
              "      <td>0</td>\n",
              "      <td>0</td>\n",
              "      <td>0</td>\n",
              "      <td>0</td>\n",
              "      <td>0</td>\n",
              "    </tr>\n",
              "    <tr>\n",
              "      <th>2</th>\n",
              "      <td>ChEMBL</td>\n",
              "      <td>Br.Br.Cc1cc(-c2ccccc2O)nnc1NCCN1CCOCC1</td>\n",
              "      <td>mouse</td>\n",
              "      <td>intraperitoneal</td>\n",
              "      <td>200.0</td>\n",
              "      <td>mg/kg</td>\n",
              "      <td>NaN</td>\n",
              "      <td>NaN</td>\n",
              "      <td>NaN</td>\n",
              "      <td>NaN</td>\n",
              "      <td>...</td>\n",
              "      <td>0</td>\n",
              "      <td>0</td>\n",
              "      <td>0</td>\n",
              "      <td>0</td>\n",
              "      <td>0</td>\n",
              "      <td>0</td>\n",
              "      <td>0</td>\n",
              "      <td>0</td>\n",
              "      <td>0</td>\n",
              "      <td>0</td>\n",
              "    </tr>\n",
              "  </tbody>\n",
              "</table>\n",
              "<p>3 rows × 1422 columns</p>\n",
              "</div>\n",
              "    <div class=\"colab-df-buttons\">\n",
              "\n",
              "  <div class=\"colab-df-container\">\n",
              "    <button class=\"colab-df-convert\" onclick=\"convertToInteractive('df-35584fc4-cb22-484e-9b48-428956347541')\"\n",
              "            title=\"Convert this dataframe to an interactive table.\"\n",
              "            style=\"display:none;\">\n",
              "\n",
              "  <svg xmlns=\"http://www.w3.org/2000/svg\" height=\"24px\" viewBox=\"0 -960 960 960\">\n",
              "    <path d=\"M120-120v-720h720v720H120Zm60-500h600v-160H180v160Zm220 220h160v-160H400v160Zm0 220h160v-160H400v160ZM180-400h160v-160H180v160Zm440 0h160v-160H620v160ZM180-180h160v-160H180v160Zm440 0h160v-160H620v160Z\"/>\n",
              "  </svg>\n",
              "    </button>\n",
              "\n",
              "  <style>\n",
              "    .colab-df-container {\n",
              "      display:flex;\n",
              "      gap: 12px;\n",
              "    }\n",
              "\n",
              "    .colab-df-convert {\n",
              "      background-color: #E8F0FE;\n",
              "      border: none;\n",
              "      border-radius: 50%;\n",
              "      cursor: pointer;\n",
              "      display: none;\n",
              "      fill: #1967D2;\n",
              "      height: 32px;\n",
              "      padding: 0 0 0 0;\n",
              "      width: 32px;\n",
              "    }\n",
              "\n",
              "    .colab-df-convert:hover {\n",
              "      background-color: #E2EBFA;\n",
              "      box-shadow: 0px 1px 2px rgba(60, 64, 67, 0.3), 0px 1px 3px 1px rgba(60, 64, 67, 0.15);\n",
              "      fill: #174EA6;\n",
              "    }\n",
              "\n",
              "    .colab-df-buttons div {\n",
              "      margin-bottom: 4px;\n",
              "    }\n",
              "\n",
              "    [theme=dark] .colab-df-convert {\n",
              "      background-color: #3B4455;\n",
              "      fill: #D2E3FC;\n",
              "    }\n",
              "\n",
              "    [theme=dark] .colab-df-convert:hover {\n",
              "      background-color: #434B5C;\n",
              "      box-shadow: 0px 1px 3px 1px rgba(0, 0, 0, 0.15);\n",
              "      filter: drop-shadow(0px 1px 2px rgba(0, 0, 0, 0.3));\n",
              "      fill: #FFFFFF;\n",
              "    }\n",
              "  </style>\n",
              "\n",
              "    <script>\n",
              "      const buttonEl =\n",
              "        document.querySelector('#df-35584fc4-cb22-484e-9b48-428956347541 button.colab-df-convert');\n",
              "      buttonEl.style.display =\n",
              "        google.colab.kernel.accessAllowed ? 'block' : 'none';\n",
              "\n",
              "      async function convertToInteractive(key) {\n",
              "        const element = document.querySelector('#df-35584fc4-cb22-484e-9b48-428956347541');\n",
              "        const dataTable =\n",
              "          await google.colab.kernel.invokeFunction('convertToInteractive',\n",
              "                                                    [key], {});\n",
              "        if (!dataTable) return;\n",
              "\n",
              "        const docLinkHtml = 'Like what you see? Visit the ' +\n",
              "          '<a target=\"_blank\" href=https://colab.research.google.com/notebooks/data_table.ipynb>data table notebook</a>'\n",
              "          + ' to learn more about interactive tables.';\n",
              "        element.innerHTML = '';\n",
              "        dataTable['output_type'] = 'display_data';\n",
              "        await google.colab.output.renderOutput(dataTable, element);\n",
              "        const docLink = document.createElement('div');\n",
              "        docLink.innerHTML = docLinkHtml;\n",
              "        element.appendChild(docLink);\n",
              "      }\n",
              "    </script>\n",
              "  </div>\n",
              "\n",
              "\n",
              "<div id=\"df-d4f92715-5ccc-4caa-92f9-c2df70e64e9e\">\n",
              "  <button class=\"colab-df-quickchart\" onclick=\"quickchart('df-d4f92715-5ccc-4caa-92f9-c2df70e64e9e')\"\n",
              "            title=\"Suggest charts\"\n",
              "            style=\"display:none;\">\n",
              "\n",
              "<svg xmlns=\"http://www.w3.org/2000/svg\" height=\"24px\"viewBox=\"0 0 24 24\"\n",
              "     width=\"24px\">\n",
              "    <g>\n",
              "        <path d=\"M19 3H5c-1.1 0-2 .9-2 2v14c0 1.1.9 2 2 2h14c1.1 0 2-.9 2-2V5c0-1.1-.9-2-2-2zM9 17H7v-7h2v7zm4 0h-2V7h2v10zm4 0h-2v-4h2v4z\"/>\n",
              "    </g>\n",
              "</svg>\n",
              "  </button>\n",
              "\n",
              "<style>\n",
              "  .colab-df-quickchart {\n",
              "      --bg-color: #E8F0FE;\n",
              "      --fill-color: #1967D2;\n",
              "      --hover-bg-color: #E2EBFA;\n",
              "      --hover-fill-color: #174EA6;\n",
              "      --disabled-fill-color: #AAA;\n",
              "      --disabled-bg-color: #DDD;\n",
              "  }\n",
              "\n",
              "  [theme=dark] .colab-df-quickchart {\n",
              "      --bg-color: #3B4455;\n",
              "      --fill-color: #D2E3FC;\n",
              "      --hover-bg-color: #434B5C;\n",
              "      --hover-fill-color: #FFFFFF;\n",
              "      --disabled-bg-color: #3B4455;\n",
              "      --disabled-fill-color: #666;\n",
              "  }\n",
              "\n",
              "  .colab-df-quickchart {\n",
              "    background-color: var(--bg-color);\n",
              "    border: none;\n",
              "    border-radius: 50%;\n",
              "    cursor: pointer;\n",
              "    display: none;\n",
              "    fill: var(--fill-color);\n",
              "    height: 32px;\n",
              "    padding: 0;\n",
              "    width: 32px;\n",
              "  }\n",
              "\n",
              "  .colab-df-quickchart:hover {\n",
              "    background-color: var(--hover-bg-color);\n",
              "    box-shadow: 0 1px 2px rgba(60, 64, 67, 0.3), 0 1px 3px 1px rgba(60, 64, 67, 0.15);\n",
              "    fill: var(--button-hover-fill-color);\n",
              "  }\n",
              "\n",
              "  .colab-df-quickchart-complete:disabled,\n",
              "  .colab-df-quickchart-complete:disabled:hover {\n",
              "    background-color: var(--disabled-bg-color);\n",
              "    fill: var(--disabled-fill-color);\n",
              "    box-shadow: none;\n",
              "  }\n",
              "\n",
              "  .colab-df-spinner {\n",
              "    border: 2px solid var(--fill-color);\n",
              "    border-color: transparent;\n",
              "    border-bottom-color: var(--fill-color);\n",
              "    animation:\n",
              "      spin 1s steps(1) infinite;\n",
              "  }\n",
              "\n",
              "  @keyframes spin {\n",
              "    0% {\n",
              "      border-color: transparent;\n",
              "      border-bottom-color: var(--fill-color);\n",
              "      border-left-color: var(--fill-color);\n",
              "    }\n",
              "    20% {\n",
              "      border-color: transparent;\n",
              "      border-left-color: var(--fill-color);\n",
              "      border-top-color: var(--fill-color);\n",
              "    }\n",
              "    30% {\n",
              "      border-color: transparent;\n",
              "      border-left-color: var(--fill-color);\n",
              "      border-top-color: var(--fill-color);\n",
              "      border-right-color: var(--fill-color);\n",
              "    }\n",
              "    40% {\n",
              "      border-color: transparent;\n",
              "      border-right-color: var(--fill-color);\n",
              "      border-top-color: var(--fill-color);\n",
              "    }\n",
              "    60% {\n",
              "      border-color: transparent;\n",
              "      border-right-color: var(--fill-color);\n",
              "    }\n",
              "    80% {\n",
              "      border-color: transparent;\n",
              "      border-right-color: var(--fill-color);\n",
              "      border-bottom-color: var(--fill-color);\n",
              "    }\n",
              "    90% {\n",
              "      border-color: transparent;\n",
              "      border-bottom-color: var(--fill-color);\n",
              "    }\n",
              "  }\n",
              "</style>\n",
              "\n",
              "  <script>\n",
              "    async function quickchart(key) {\n",
              "      const quickchartButtonEl =\n",
              "        document.querySelector('#' + key + ' button');\n",
              "      quickchartButtonEl.disabled = true;  // To prevent multiple clicks.\n",
              "      quickchartButtonEl.classList.add('colab-df-spinner');\n",
              "      try {\n",
              "        const charts = await google.colab.kernel.invokeFunction(\n",
              "            'suggestCharts', [key], {});\n",
              "      } catch (error) {\n",
              "        console.error('Error during call to suggestCharts:', error);\n",
              "      }\n",
              "      quickchartButtonEl.classList.remove('colab-df-spinner');\n",
              "      quickchartButtonEl.classList.add('colab-df-quickchart-complete');\n",
              "    }\n",
              "    (() => {\n",
              "      let quickchartButtonEl =\n",
              "        document.querySelector('#df-d4f92715-5ccc-4caa-92f9-c2df70e64e9e button');\n",
              "      quickchartButtonEl.style.display =\n",
              "        google.colab.kernel.accessAllowed ? 'block' : 'none';\n",
              "    })();\n",
              "  </script>\n",
              "</div>\n",
              "    </div>\n",
              "  </div>\n"
            ],
            "application/vnd.google.colaboratory.intrinsic+json": {
              "type": "dataframe",
              "variable_name": "df"
            }
          },
          "metadata": {},
          "execution_count": 5
        }
      ],
      "source": [
        "df.head(3)"
      ]
    },
    {
      "cell_type": "code",
      "execution_count": 6,
      "id": "a39b07ae",
      "metadata": {
        "colab": {
          "base_uri": "https://localhost:8080/"
        },
        "id": "a39b07ae",
        "outputId": "1a9e81fa-ffce-46c3-c7bd-d88a7f8e74ae"
      },
      "outputs": [
        {
          "output_type": "execute_result",
          "data": {
            "text/plain": [
              "(114757, 1422)"
            ]
          },
          "metadata": {},
          "execution_count": 6
        }
      ],
      "source": [
        "df.shape"
      ]
    },
    {
      "cell_type": "code",
      "execution_count": 7,
      "id": "f3b42ff6",
      "metadata": {
        "colab": {
          "base_uri": "https://localhost:8080/",
          "height": 402
        },
        "id": "f3b42ff6",
        "outputId": "8a45efe9-60b3-443e-aca8-e39b51f5d14e"
      },
      "outputs": [
        {
          "output_type": "stream",
          "name": "stderr",
          "text": [
            "/usr/local/lib/python3.10/dist-packages/pandas/core/nanops.py:1016: RuntimeWarning: overflow encountered in square\n",
            "  sqr = _ensure_numeric((avg - values) ** 2)\n"
          ]
        },
        {
          "output_type": "execute_result",
          "data": {
            "text/plain": [
              "               LD50  Carcinogenicity  Carcinogenicity (a.u.)  Hepatoxicity  \\\n",
              "count  9.921700e+04      1099.000000                     0.0   3346.000000   \n",
              "mean   1.627611e+03         0.481347                     NaN      0.510460   \n",
              "std    2.196844e+04         0.499879                     NaN      0.499965   \n",
              "min    0.000000e+00         0.000000                     NaN      0.000000   \n",
              "25%    1.000000e+02         0.000000                     NaN      0.000000   \n",
              "50%    4.000000e+02         0.000000                     NaN      1.000000   \n",
              "75%    1.000033e+03         1.000000                     NaN      1.000000   \n",
              "max    2.500000e+06         1.000000                     NaN      1.000000   \n",
              "\n",
              "       Hepatoxicity (a.u.)  Eye_Corrosion  Eye_Corrosion (a.u.)  \\\n",
              "count                  0.0    2627.000000                   0.0   \n",
              "mean                   NaN       0.347164                   NaN   \n",
              "std                    NaN       0.476159                   NaN   \n",
              "min                    NaN       0.000000                   NaN   \n",
              "25%                    NaN       0.000000                   NaN   \n",
              "50%                    NaN       0.000000                   NaN   \n",
              "75%                    NaN       1.000000                   NaN   \n",
              "max                    NaN       1.000000                   NaN   \n",
              "\n",
              "       Eye_Irritation  Eye_Irritation (a.u.)  Mutagenicity  ...  \\\n",
              "count     5577.000000                    0.0   7836.000000  ...   \n",
              "mean         0.708087                    NaN      0.548111  ...   \n",
              "std          0.454683                    NaN      0.497712  ...   \n",
              "min          0.000000                    NaN      0.000000  ...   \n",
              "25%          0.000000                    NaN      0.000000  ...   \n",
              "50%          1.000000                    NaN      1.000000  ...   \n",
              "75%          1.000000                    NaN      1.000000  ...   \n",
              "max          1.000000                    NaN      1.000000  ...   \n",
              "\n",
              "       MorganFP_1015  MorganFP_1016  MorganFP_1017  MorganFP_1018  \\\n",
              "count  114757.000000  114757.000000  114757.000000  114757.000000   \n",
              "mean        0.025367       0.012731       0.006326       0.094068   \n",
              "std         0.157237       0.112113       0.079287       0.291925   \n",
              "min         0.000000       0.000000       0.000000       0.000000   \n",
              "25%         0.000000       0.000000       0.000000       0.000000   \n",
              "50%         0.000000       0.000000       0.000000       0.000000   \n",
              "75%         0.000000       0.000000       0.000000       0.000000   \n",
              "max         1.000000       1.000000       1.000000       1.000000   \n",
              "\n",
              "       MorganFP_1019  MorganFP_1020  MorganFP_1021  MorganFP_1022  \\\n",
              "count  114757.000000  114757.000000  114757.000000  114757.000000   \n",
              "mean        0.013489       0.277595       0.023380       0.016522   \n",
              "std         0.115358       0.447815       0.151107       0.127472   \n",
              "min         0.000000       0.000000       0.000000       0.000000   \n",
              "25%         0.000000       0.000000       0.000000       0.000000   \n",
              "50%         0.000000       0.000000       0.000000       0.000000   \n",
              "75%         0.000000       1.000000       0.000000       0.000000   \n",
              "max         1.000000       1.000000       1.000000       1.000000   \n",
              "\n",
              "       MorganFP_1023  MorganFP_1024  \n",
              "count  114757.000000  114757.000000  \n",
              "mean        0.017881       0.008287  \n",
              "std         0.132520       0.090656  \n",
              "min         0.000000       0.000000  \n",
              "25%         0.000000       0.000000  \n",
              "50%         0.000000       0.000000  \n",
              "75%         0.000000       0.000000  \n",
              "max         1.000000       1.000000  \n",
              "\n",
              "[8 rows x 1415 columns]"
            ],
            "text/html": [
              "\n",
              "  <div id=\"df-0d4ddec2-2c10-4c46-9e8a-998ed34cc186\" class=\"colab-df-container\">\n",
              "    <div>\n",
              "<style scoped>\n",
              "    .dataframe tbody tr th:only-of-type {\n",
              "        vertical-align: middle;\n",
              "    }\n",
              "\n",
              "    .dataframe tbody tr th {\n",
              "        vertical-align: top;\n",
              "    }\n",
              "\n",
              "    .dataframe thead th {\n",
              "        text-align: right;\n",
              "    }\n",
              "</style>\n",
              "<table border=\"1\" class=\"dataframe\">\n",
              "  <thead>\n",
              "    <tr style=\"text-align: right;\">\n",
              "      <th></th>\n",
              "      <th>LD50</th>\n",
              "      <th>Carcinogenicity</th>\n",
              "      <th>Carcinogenicity (a.u.)</th>\n",
              "      <th>Hepatoxicity</th>\n",
              "      <th>Hepatoxicity (a.u.)</th>\n",
              "      <th>Eye_Corrosion</th>\n",
              "      <th>Eye_Corrosion (a.u.)</th>\n",
              "      <th>Eye_Irritation</th>\n",
              "      <th>Eye_Irritation (a.u.)</th>\n",
              "      <th>Mutagenicity</th>\n",
              "      <th>...</th>\n",
              "      <th>MorganFP_1015</th>\n",
              "      <th>MorganFP_1016</th>\n",
              "      <th>MorganFP_1017</th>\n",
              "      <th>MorganFP_1018</th>\n",
              "      <th>MorganFP_1019</th>\n",
              "      <th>MorganFP_1020</th>\n",
              "      <th>MorganFP_1021</th>\n",
              "      <th>MorganFP_1022</th>\n",
              "      <th>MorganFP_1023</th>\n",
              "      <th>MorganFP_1024</th>\n",
              "    </tr>\n",
              "  </thead>\n",
              "  <tbody>\n",
              "    <tr>\n",
              "      <th>count</th>\n",
              "      <td>9.921700e+04</td>\n",
              "      <td>1099.000000</td>\n",
              "      <td>0.0</td>\n",
              "      <td>3346.000000</td>\n",
              "      <td>0.0</td>\n",
              "      <td>2627.000000</td>\n",
              "      <td>0.0</td>\n",
              "      <td>5577.000000</td>\n",
              "      <td>0.0</td>\n",
              "      <td>7836.000000</td>\n",
              "      <td>...</td>\n",
              "      <td>114757.000000</td>\n",
              "      <td>114757.000000</td>\n",
              "      <td>114757.000000</td>\n",
              "      <td>114757.000000</td>\n",
              "      <td>114757.000000</td>\n",
              "      <td>114757.000000</td>\n",
              "      <td>114757.000000</td>\n",
              "      <td>114757.000000</td>\n",
              "      <td>114757.000000</td>\n",
              "      <td>114757.000000</td>\n",
              "    </tr>\n",
              "    <tr>\n",
              "      <th>mean</th>\n",
              "      <td>1.627611e+03</td>\n",
              "      <td>0.481347</td>\n",
              "      <td>NaN</td>\n",
              "      <td>0.510460</td>\n",
              "      <td>NaN</td>\n",
              "      <td>0.347164</td>\n",
              "      <td>NaN</td>\n",
              "      <td>0.708087</td>\n",
              "      <td>NaN</td>\n",
              "      <td>0.548111</td>\n",
              "      <td>...</td>\n",
              "      <td>0.025367</td>\n",
              "      <td>0.012731</td>\n",
              "      <td>0.006326</td>\n",
              "      <td>0.094068</td>\n",
              "      <td>0.013489</td>\n",
              "      <td>0.277595</td>\n",
              "      <td>0.023380</td>\n",
              "      <td>0.016522</td>\n",
              "      <td>0.017881</td>\n",
              "      <td>0.008287</td>\n",
              "    </tr>\n",
              "    <tr>\n",
              "      <th>std</th>\n",
              "      <td>2.196844e+04</td>\n",
              "      <td>0.499879</td>\n",
              "      <td>NaN</td>\n",
              "      <td>0.499965</td>\n",
              "      <td>NaN</td>\n",
              "      <td>0.476159</td>\n",
              "      <td>NaN</td>\n",
              "      <td>0.454683</td>\n",
              "      <td>NaN</td>\n",
              "      <td>0.497712</td>\n",
              "      <td>...</td>\n",
              "      <td>0.157237</td>\n",
              "      <td>0.112113</td>\n",
              "      <td>0.079287</td>\n",
              "      <td>0.291925</td>\n",
              "      <td>0.115358</td>\n",
              "      <td>0.447815</td>\n",
              "      <td>0.151107</td>\n",
              "      <td>0.127472</td>\n",
              "      <td>0.132520</td>\n",
              "      <td>0.090656</td>\n",
              "    </tr>\n",
              "    <tr>\n",
              "      <th>min</th>\n",
              "      <td>0.000000e+00</td>\n",
              "      <td>0.000000</td>\n",
              "      <td>NaN</td>\n",
              "      <td>0.000000</td>\n",
              "      <td>NaN</td>\n",
              "      <td>0.000000</td>\n",
              "      <td>NaN</td>\n",
              "      <td>0.000000</td>\n",
              "      <td>NaN</td>\n",
              "      <td>0.000000</td>\n",
              "      <td>...</td>\n",
              "      <td>0.000000</td>\n",
              "      <td>0.000000</td>\n",
              "      <td>0.000000</td>\n",
              "      <td>0.000000</td>\n",
              "      <td>0.000000</td>\n",
              "      <td>0.000000</td>\n",
              "      <td>0.000000</td>\n",
              "      <td>0.000000</td>\n",
              "      <td>0.000000</td>\n",
              "      <td>0.000000</td>\n",
              "    </tr>\n",
              "    <tr>\n",
              "      <th>25%</th>\n",
              "      <td>1.000000e+02</td>\n",
              "      <td>0.000000</td>\n",
              "      <td>NaN</td>\n",
              "      <td>0.000000</td>\n",
              "      <td>NaN</td>\n",
              "      <td>0.000000</td>\n",
              "      <td>NaN</td>\n",
              "      <td>0.000000</td>\n",
              "      <td>NaN</td>\n",
              "      <td>0.000000</td>\n",
              "      <td>...</td>\n",
              "      <td>0.000000</td>\n",
              "      <td>0.000000</td>\n",
              "      <td>0.000000</td>\n",
              "      <td>0.000000</td>\n",
              "      <td>0.000000</td>\n",
              "      <td>0.000000</td>\n",
              "      <td>0.000000</td>\n",
              "      <td>0.000000</td>\n",
              "      <td>0.000000</td>\n",
              "      <td>0.000000</td>\n",
              "    </tr>\n",
              "    <tr>\n",
              "      <th>50%</th>\n",
              "      <td>4.000000e+02</td>\n",
              "      <td>0.000000</td>\n",
              "      <td>NaN</td>\n",
              "      <td>1.000000</td>\n",
              "      <td>NaN</td>\n",
              "      <td>0.000000</td>\n",
              "      <td>NaN</td>\n",
              "      <td>1.000000</td>\n",
              "      <td>NaN</td>\n",
              "      <td>1.000000</td>\n",
              "      <td>...</td>\n",
              "      <td>0.000000</td>\n",
              "      <td>0.000000</td>\n",
              "      <td>0.000000</td>\n",
              "      <td>0.000000</td>\n",
              "      <td>0.000000</td>\n",
              "      <td>0.000000</td>\n",
              "      <td>0.000000</td>\n",
              "      <td>0.000000</td>\n",
              "      <td>0.000000</td>\n",
              "      <td>0.000000</td>\n",
              "    </tr>\n",
              "    <tr>\n",
              "      <th>75%</th>\n",
              "      <td>1.000033e+03</td>\n",
              "      <td>1.000000</td>\n",
              "      <td>NaN</td>\n",
              "      <td>1.000000</td>\n",
              "      <td>NaN</td>\n",
              "      <td>1.000000</td>\n",
              "      <td>NaN</td>\n",
              "      <td>1.000000</td>\n",
              "      <td>NaN</td>\n",
              "      <td>1.000000</td>\n",
              "      <td>...</td>\n",
              "      <td>0.000000</td>\n",
              "      <td>0.000000</td>\n",
              "      <td>0.000000</td>\n",
              "      <td>0.000000</td>\n",
              "      <td>0.000000</td>\n",
              "      <td>1.000000</td>\n",
              "      <td>0.000000</td>\n",
              "      <td>0.000000</td>\n",
              "      <td>0.000000</td>\n",
              "      <td>0.000000</td>\n",
              "    </tr>\n",
              "    <tr>\n",
              "      <th>max</th>\n",
              "      <td>2.500000e+06</td>\n",
              "      <td>1.000000</td>\n",
              "      <td>NaN</td>\n",
              "      <td>1.000000</td>\n",
              "      <td>NaN</td>\n",
              "      <td>1.000000</td>\n",
              "      <td>NaN</td>\n",
              "      <td>1.000000</td>\n",
              "      <td>NaN</td>\n",
              "      <td>1.000000</td>\n",
              "      <td>...</td>\n",
              "      <td>1.000000</td>\n",
              "      <td>1.000000</td>\n",
              "      <td>1.000000</td>\n",
              "      <td>1.000000</td>\n",
              "      <td>1.000000</td>\n",
              "      <td>1.000000</td>\n",
              "      <td>1.000000</td>\n",
              "      <td>1.000000</td>\n",
              "      <td>1.000000</td>\n",
              "      <td>1.000000</td>\n",
              "    </tr>\n",
              "  </tbody>\n",
              "</table>\n",
              "<p>8 rows × 1415 columns</p>\n",
              "</div>\n",
              "    <div class=\"colab-df-buttons\">\n",
              "\n",
              "  <div class=\"colab-df-container\">\n",
              "    <button class=\"colab-df-convert\" onclick=\"convertToInteractive('df-0d4ddec2-2c10-4c46-9e8a-998ed34cc186')\"\n",
              "            title=\"Convert this dataframe to an interactive table.\"\n",
              "            style=\"display:none;\">\n",
              "\n",
              "  <svg xmlns=\"http://www.w3.org/2000/svg\" height=\"24px\" viewBox=\"0 -960 960 960\">\n",
              "    <path d=\"M120-120v-720h720v720H120Zm60-500h600v-160H180v160Zm220 220h160v-160H400v160Zm0 220h160v-160H400v160ZM180-400h160v-160H180v160Zm440 0h160v-160H620v160ZM180-180h160v-160H180v160Zm440 0h160v-160H620v160Z\"/>\n",
              "  </svg>\n",
              "    </button>\n",
              "\n",
              "  <style>\n",
              "    .colab-df-container {\n",
              "      display:flex;\n",
              "      gap: 12px;\n",
              "    }\n",
              "\n",
              "    .colab-df-convert {\n",
              "      background-color: #E8F0FE;\n",
              "      border: none;\n",
              "      border-radius: 50%;\n",
              "      cursor: pointer;\n",
              "      display: none;\n",
              "      fill: #1967D2;\n",
              "      height: 32px;\n",
              "      padding: 0 0 0 0;\n",
              "      width: 32px;\n",
              "    }\n",
              "\n",
              "    .colab-df-convert:hover {\n",
              "      background-color: #E2EBFA;\n",
              "      box-shadow: 0px 1px 2px rgba(60, 64, 67, 0.3), 0px 1px 3px 1px rgba(60, 64, 67, 0.15);\n",
              "      fill: #174EA6;\n",
              "    }\n",
              "\n",
              "    .colab-df-buttons div {\n",
              "      margin-bottom: 4px;\n",
              "    }\n",
              "\n",
              "    [theme=dark] .colab-df-convert {\n",
              "      background-color: #3B4455;\n",
              "      fill: #D2E3FC;\n",
              "    }\n",
              "\n",
              "    [theme=dark] .colab-df-convert:hover {\n",
              "      background-color: #434B5C;\n",
              "      box-shadow: 0px 1px 3px 1px rgba(0, 0, 0, 0.15);\n",
              "      filter: drop-shadow(0px 1px 2px rgba(0, 0, 0, 0.3));\n",
              "      fill: #FFFFFF;\n",
              "    }\n",
              "  </style>\n",
              "\n",
              "    <script>\n",
              "      const buttonEl =\n",
              "        document.querySelector('#df-0d4ddec2-2c10-4c46-9e8a-998ed34cc186 button.colab-df-convert');\n",
              "      buttonEl.style.display =\n",
              "        google.colab.kernel.accessAllowed ? 'block' : 'none';\n",
              "\n",
              "      async function convertToInteractive(key) {\n",
              "        const element = document.querySelector('#df-0d4ddec2-2c10-4c46-9e8a-998ed34cc186');\n",
              "        const dataTable =\n",
              "          await google.colab.kernel.invokeFunction('convertToInteractive',\n",
              "                                                    [key], {});\n",
              "        if (!dataTable) return;\n",
              "\n",
              "        const docLinkHtml = 'Like what you see? Visit the ' +\n",
              "          '<a target=\"_blank\" href=https://colab.research.google.com/notebooks/data_table.ipynb>data table notebook</a>'\n",
              "          + ' to learn more about interactive tables.';\n",
              "        element.innerHTML = '';\n",
              "        dataTable['output_type'] = 'display_data';\n",
              "        await google.colab.output.renderOutput(dataTable, element);\n",
              "        const docLink = document.createElement('div');\n",
              "        docLink.innerHTML = docLinkHtml;\n",
              "        element.appendChild(docLink);\n",
              "      }\n",
              "    </script>\n",
              "  </div>\n",
              "\n",
              "\n",
              "<div id=\"df-f1e2b9a1-1666-41f7-8ea7-f5c3706bff30\">\n",
              "  <button class=\"colab-df-quickchart\" onclick=\"quickchart('df-f1e2b9a1-1666-41f7-8ea7-f5c3706bff30')\"\n",
              "            title=\"Suggest charts\"\n",
              "            style=\"display:none;\">\n",
              "\n",
              "<svg xmlns=\"http://www.w3.org/2000/svg\" height=\"24px\"viewBox=\"0 0 24 24\"\n",
              "     width=\"24px\">\n",
              "    <g>\n",
              "        <path d=\"M19 3H5c-1.1 0-2 .9-2 2v14c0 1.1.9 2 2 2h14c1.1 0 2-.9 2-2V5c0-1.1-.9-2-2-2zM9 17H7v-7h2v7zm4 0h-2V7h2v10zm4 0h-2v-4h2v4z\"/>\n",
              "    </g>\n",
              "</svg>\n",
              "  </button>\n",
              "\n",
              "<style>\n",
              "  .colab-df-quickchart {\n",
              "      --bg-color: #E8F0FE;\n",
              "      --fill-color: #1967D2;\n",
              "      --hover-bg-color: #E2EBFA;\n",
              "      --hover-fill-color: #174EA6;\n",
              "      --disabled-fill-color: #AAA;\n",
              "      --disabled-bg-color: #DDD;\n",
              "  }\n",
              "\n",
              "  [theme=dark] .colab-df-quickchart {\n",
              "      --bg-color: #3B4455;\n",
              "      --fill-color: #D2E3FC;\n",
              "      --hover-bg-color: #434B5C;\n",
              "      --hover-fill-color: #FFFFFF;\n",
              "      --disabled-bg-color: #3B4455;\n",
              "      --disabled-fill-color: #666;\n",
              "  }\n",
              "\n",
              "  .colab-df-quickchart {\n",
              "    background-color: var(--bg-color);\n",
              "    border: none;\n",
              "    border-radius: 50%;\n",
              "    cursor: pointer;\n",
              "    display: none;\n",
              "    fill: var(--fill-color);\n",
              "    height: 32px;\n",
              "    padding: 0;\n",
              "    width: 32px;\n",
              "  }\n",
              "\n",
              "  .colab-df-quickchart:hover {\n",
              "    background-color: var(--hover-bg-color);\n",
              "    box-shadow: 0 1px 2px rgba(60, 64, 67, 0.3), 0 1px 3px 1px rgba(60, 64, 67, 0.15);\n",
              "    fill: var(--button-hover-fill-color);\n",
              "  }\n",
              "\n",
              "  .colab-df-quickchart-complete:disabled,\n",
              "  .colab-df-quickchart-complete:disabled:hover {\n",
              "    background-color: var(--disabled-bg-color);\n",
              "    fill: var(--disabled-fill-color);\n",
              "    box-shadow: none;\n",
              "  }\n",
              "\n",
              "  .colab-df-spinner {\n",
              "    border: 2px solid var(--fill-color);\n",
              "    border-color: transparent;\n",
              "    border-bottom-color: var(--fill-color);\n",
              "    animation:\n",
              "      spin 1s steps(1) infinite;\n",
              "  }\n",
              "\n",
              "  @keyframes spin {\n",
              "    0% {\n",
              "      border-color: transparent;\n",
              "      border-bottom-color: var(--fill-color);\n",
              "      border-left-color: var(--fill-color);\n",
              "    }\n",
              "    20% {\n",
              "      border-color: transparent;\n",
              "      border-left-color: var(--fill-color);\n",
              "      border-top-color: var(--fill-color);\n",
              "    }\n",
              "    30% {\n",
              "      border-color: transparent;\n",
              "      border-left-color: var(--fill-color);\n",
              "      border-top-color: var(--fill-color);\n",
              "      border-right-color: var(--fill-color);\n",
              "    }\n",
              "    40% {\n",
              "      border-color: transparent;\n",
              "      border-right-color: var(--fill-color);\n",
              "      border-top-color: var(--fill-color);\n",
              "    }\n",
              "    60% {\n",
              "      border-color: transparent;\n",
              "      border-right-color: var(--fill-color);\n",
              "    }\n",
              "    80% {\n",
              "      border-color: transparent;\n",
              "      border-right-color: var(--fill-color);\n",
              "      border-bottom-color: var(--fill-color);\n",
              "    }\n",
              "    90% {\n",
              "      border-color: transparent;\n",
              "      border-bottom-color: var(--fill-color);\n",
              "    }\n",
              "  }\n",
              "</style>\n",
              "\n",
              "  <script>\n",
              "    async function quickchart(key) {\n",
              "      const quickchartButtonEl =\n",
              "        document.querySelector('#' + key + ' button');\n",
              "      quickchartButtonEl.disabled = true;  // To prevent multiple clicks.\n",
              "      quickchartButtonEl.classList.add('colab-df-spinner');\n",
              "      try {\n",
              "        const charts = await google.colab.kernel.invokeFunction(\n",
              "            'suggestCharts', [key], {});\n",
              "      } catch (error) {\n",
              "        console.error('Error during call to suggestCharts:', error);\n",
              "      }\n",
              "      quickchartButtonEl.classList.remove('colab-df-spinner');\n",
              "      quickchartButtonEl.classList.add('colab-df-quickchart-complete');\n",
              "    }\n",
              "    (() => {\n",
              "      let quickchartButtonEl =\n",
              "        document.querySelector('#df-f1e2b9a1-1666-41f7-8ea7-f5c3706bff30 button');\n",
              "      quickchartButtonEl.style.display =\n",
              "        google.colab.kernel.accessAllowed ? 'block' : 'none';\n",
              "    })();\n",
              "  </script>\n",
              "</div>\n",
              "    </div>\n",
              "  </div>\n"
            ],
            "application/vnd.google.colaboratory.intrinsic+json": {
              "type": "dataframe"
            }
          },
          "metadata": {},
          "execution_count": 7
        }
      ],
      "source": [
        "df.describe()"
      ]
    },
    {
      "cell_type": "code",
      "execution_count": 8,
      "id": "82e81bdd",
      "metadata": {
        "colab": {
          "base_uri": "https://localhost:8080/"
        },
        "id": "82e81bdd",
        "outputId": "a444437b-a2ec-4991-f532-c7d97142edb4"
      },
      "outputs": [
        {
          "output_type": "execute_result",
          "data": {
            "text/plain": [
              "Index(['Source', 'Smiles', 'Exp. Animal', 'Method of administration', 'LD50',\n",
              "       'LD50 (a.u.)', 'Carcinogenicity', 'Carcinogenicity (a.u.)',\n",
              "       'Hepatoxicity', 'Hepatoxicity (a.u.)', 'Eye_Corrosion',\n",
              "       'Eye_Corrosion (a.u.)', 'Eye_Irritation', 'Eye_Irritation (a.u.)',\n",
              "       'Mutagenicity', 'Mutagenicity (a.u.)', 'Respiratory_Toxicity',\n",
              "       'Respiratory_Toxicity (a.u.)', 'LC50', 'LC50 (a.u.)', 'NOAEL',\n",
              "       'NOAEL (a.u)', 'MaxAbsEStateIndex', 'MaxEStateIndex',\n",
              "       'MinAbsEStateIndex'],\n",
              "      dtype='object')"
            ]
          },
          "metadata": {},
          "execution_count": 8
        }
      ],
      "source": [
        "df.columns[:25]"
      ]
    },
    {
      "cell_type": "code",
      "execution_count": 9,
      "id": "d486c862",
      "metadata": {
        "colab": {
          "base_uri": "https://localhost:8080/"
        },
        "id": "d486c862",
        "outputId": "037dca92-b996-4277-e243-916292c04395"
      },
      "outputs": [
        {
          "output_type": "execute_result",
          "data": {
            "text/plain": [
              "(114033, 1422)"
            ]
          },
          "metadata": {},
          "execution_count": 9
        }
      ],
      "source": [
        "df = df.drop_duplicates(subset = ['Smiles', 'Exp. Animal', 'Method of administration'])\n",
        "df.shape"
      ]
    },
    {
      "cell_type": "code",
      "execution_count": 10,
      "id": "b253128c",
      "metadata": {
        "colab": {
          "base_uri": "https://localhost:8080/"
        },
        "id": "b253128c",
        "outputId": "5fc0f461-6b45-49e9-f594-0e4ce6e21368"
      },
      "outputs": [
        {
          "output_type": "execute_result",
          "data": {
            "text/plain": [
              "1310574.7802734375"
            ]
          },
          "metadata": {},
          "execution_count": 10
        }
      ],
      "source": [
        "df.memory_usage(deep=True).sum() / 1024"
      ]
    },
    {
      "cell_type": "code",
      "execution_count": 11,
      "id": "ed2aeee9",
      "metadata": {
        "id": "ed2aeee9"
      },
      "outputs": [],
      "source": [
        "cat_features_mask = (df.dtypes == \"object\").values\n",
        "\n",
        "obj_cols = df.select_dtypes('object').columns\n",
        "df[obj_cols] = df[obj_cols].astype('category')"
      ]
    },
    {
      "cell_type": "code",
      "execution_count": 12,
      "id": "7116b1e5",
      "metadata": {
        "colab": {
          "base_uri": "https://localhost:8080/"
        },
        "id": "7116b1e5",
        "outputId": "0f40515c-766e-4662-b8c3-0d648767a787"
      },
      "outputs": [
        {
          "output_type": "execute_result",
          "data": {
            "text/plain": [
              "1273943.888671875"
            ]
          },
          "metadata": {},
          "execution_count": 12
        }
      ],
      "source": [
        "df.memory_usage(deep=True).sum() / 1024"
      ]
    },
    {
      "cell_type": "code",
      "execution_count": 13,
      "id": "f9e86c78",
      "metadata": {
        "id": "f9e86c78"
      },
      "outputs": [],
      "source": [
        "fcols = df.select_dtypes('float').columns\n",
        "icols = df.select_dtypes('integer').columns\n",
        "\n",
        "df[fcols] = df[fcols].apply(pd.to_numeric, downcast='float')\n",
        "df[icols] = df[icols].apply(pd.to_numeric, downcast='integer')"
      ]
    },
    {
      "cell_type": "code",
      "execution_count": 14,
      "id": "4571ccc7",
      "metadata": {
        "colab": {
          "base_uri": "https://localhost:8080/"
        },
        "id": "4571ccc7",
        "outputId": "8456da29-77d3-4a44-83d2-16dc74b3a255"
      },
      "outputs": [
        {
          "output_type": "execute_result",
          "data": {
            "text/plain": [
              "249985.4560546875"
            ]
          },
          "metadata": {},
          "execution_count": 14
        }
      ],
      "source": [
        "df.memory_usage(deep=True).sum() / 1024"
      ]
    },
    {
      "cell_type": "code",
      "execution_count": 15,
      "id": "4f96eca0",
      "metadata": {
        "colab": {
          "base_uri": "https://localhost:8080/"
        },
        "id": "4f96eca0",
        "outputId": "0c6bfd97-f647-4381-dd28-0eec1b3815ef"
      },
      "outputs": [
        {
          "output_type": "execute_result",
          "data": {
            "text/plain": [
              "(114033, 1422)"
            ]
          },
          "metadata": {},
          "execution_count": 15
        }
      ],
      "source": [
        "df = df.drop_duplicates(subset = ['Smiles', 'Exp. Animal', 'Method of administration'])\n",
        "df.shape"
      ]
    },
    {
      "cell_type": "code",
      "execution_count": 16,
      "id": "7ac34f8a",
      "metadata": {
        "colab": {
          "base_uri": "https://localhost:8080/"
        },
        "id": "7ac34f8a",
        "outputId": "de51254b-9d35-44e5-96be-e08cbb5af1f6"
      },
      "outputs": [
        {
          "output_type": "execute_result",
          "data": {
            "text/plain": [
              "Index(['Source', 'Smiles', 'Exp. Animal', 'Method of administration', 'LD50',\n",
              "       'LD50 (a.u.)', 'Carcinogenicity', 'Carcinogenicity (a.u.)',\n",
              "       'Hepatoxicity', 'Hepatoxicity (a.u.)',\n",
              "       ...\n",
              "       'MorganFP_1015', 'MorganFP_1016', 'MorganFP_1017', 'MorganFP_1018',\n",
              "       'MorganFP_1019', 'MorganFP_1020', 'MorganFP_1021', 'MorganFP_1022',\n",
              "       'MorganFP_1023', 'MorganFP_1024'],\n",
              "      dtype='object', length=1422)"
            ]
          },
          "metadata": {},
          "execution_count": 16
        }
      ],
      "source": [
        "df[:25].columns"
      ]
    },
    {
      "cell_type": "code",
      "execution_count": 17,
      "id": "ff3a9a72",
      "metadata": {
        "id": "ff3a9a72",
        "colab": {
          "base_uri": "https://localhost:8080/"
        },
        "outputId": "385df94b-0f75-4acf-a252-9844bd4d5093"
      },
      "outputs": [
        {
          "output_type": "execute_result",
          "data": {
            "text/plain": [
              "(114033, 1403)"
            ]
          },
          "metadata": {},
          "execution_count": 17
        }
      ],
      "source": [
        "df = df.drop(['Source', 'Smiles',\n",
        "       'LD50 (a.u.)', 'Carcinogenicity', 'Carcinogenicity (a.u.)',\n",
        "       'Hepatoxicity', 'Hepatoxicity (a.u.)', 'Eye_Corrosion',\n",
        "       'Eye_Corrosion (a.u.)', 'Eye_Irritation', 'Eye_Irritation (a.u.)',\n",
        "       'Mutagenicity', 'Mutagenicity (a.u.)', 'Respiratory_Toxicity',\n",
        "       'Respiratory_Toxicity (a.u.)', 'LC50', 'LC50 (a.u.)', 'NOAEL',\n",
        "       'NOAEL (a.u)'], axis = 1).reset_index(drop = True)\n",
        "df.shape"
      ]
    },
    {
      "cell_type": "code",
      "execution_count": 18,
      "id": "11da88ea",
      "metadata": {
        "colab": {
          "base_uri": "https://localhost:8080/"
        },
        "id": "11da88ea",
        "outputId": "8dcbb7a1-23c8-4f93-c2e5-09bf461eef9e"
      },
      "outputs": [
        {
          "output_type": "execute_result",
          "data": {
            "text/plain": [
              "(114033, 1403)"
            ]
          },
          "metadata": {},
          "execution_count": 18
        }
      ],
      "source": [
        "df.columns\n",
        "df.shape"
      ]
    },
    {
      "cell_type": "code",
      "execution_count": 19,
      "id": "c0497693",
      "metadata": {
        "id": "c0497693",
        "colab": {
          "base_uri": "https://localhost:8080/"
        },
        "outputId": "f94cd74f-035d-4e94-909c-9de25702a557"
      },
      "outputs": [
        {
          "output_type": "execute_result",
          "data": {
            "text/plain": [
              "(98512, 1403)"
            ]
          },
          "metadata": {},
          "execution_count": 19
        }
      ],
      "source": [
        "df = df.dropna(subset=['LD50'])\n",
        "df.shape"
      ]
    },
    {
      "cell_type": "code",
      "execution_count": 20,
      "id": "c224e126",
      "metadata": {
        "colab": {
          "base_uri": "https://localhost:8080/"
        },
        "id": "c224e126",
        "outputId": "aa0679f9-f065-40c6-c3ab-a81ad20524c4"
      },
      "outputs": [
        {
          "output_type": "execute_result",
          "data": {
            "text/plain": [
              "(95591, 1403)"
            ]
          },
          "metadata": {},
          "execution_count": 20
        }
      ],
      "source": [
        "Q10 = df['LD50'].quantile(0.10)\n",
        "Q90 = df['LD50'].quantile(0.90)\n",
        "IQR = Q90 - Q10\n",
        "\n",
        "lower_bound = Q10 - 1.5 * IQR\n",
        "upper_bound = Q90 + 1.5 * IQR\n",
        "\n",
        "df = df[(df['LD50'] >= lower_bound) & (df['LD50'] <= upper_bound)]\n",
        "df = df[df['LD50'] != 0]\n",
        "df.shape"
      ]
    },
    {
      "cell_type": "code",
      "source": [
        "threshold = 0.996  # Порог в 99.6%\n",
        "#удаляем столбцы, где 99.6% значений — это одно уникальное значение\n",
        "def drop_constant_columns(df, threshold):\n",
        "    to_drop = []  # Список столбцов для удаления\n",
        "    for col in df.columns:\n",
        "        # Рассчитываем долю самого частого значения\n",
        "        max_freq = df[col].value_counts(normalize=True).max()\n",
        "        if max_freq >= threshold:\n",
        "            to_drop.append(col)\n",
        "    # Удаляем столбцы\n",
        "    return df.drop(columns=to_drop)\n",
        "\n",
        "# Применяем функцию\n",
        "df_cleaned = drop_constant_columns(df, threshold)\n"
      ],
      "metadata": {
        "id": "AJebRaOEvL-a"
      },
      "id": "AJebRaOEvL-a",
      "execution_count": 21,
      "outputs": []
    },
    {
      "cell_type": "code",
      "source": [
        "df_cleaned.shape"
      ],
      "metadata": {
        "colab": {
          "base_uri": "https://localhost:8080/"
        },
        "id": "ofUlqYRkyn4D",
        "outputId": "a0d7fa51-9555-4817-9bba-676d73ea878b"
      },
      "id": "ofUlqYRkyn4D",
      "execution_count": 22,
      "outputs": [
        {
          "output_type": "execute_result",
          "data": {
            "text/plain": [
              "(95591, 1382)"
            ]
          },
          "metadata": {},
          "execution_count": 22
        }
      ]
    },
    {
      "cell_type": "code",
      "source": [
        "df = df_cleaned"
      ],
      "metadata": {
        "id": "y2U3A6a72_fi"
      },
      "id": "y2U3A6a72_fi",
      "execution_count": 23,
      "outputs": []
    },
    {
      "cell_type": "code",
      "execution_count": 24,
      "id": "0def33d8",
      "metadata": {
        "colab": {
          "base_uri": "https://localhost:8080/"
        },
        "id": "0def33d8",
        "outputId": "774130a6-304e-4969-e6ac-d852c48b02b2"
      },
      "outputs": [
        {
          "output_type": "execute_result",
          "data": {
            "text/plain": [
              "(92494, 1382)"
            ]
          },
          "metadata": {},
          "execution_count": 24
        }
      ],
      "source": [
        "df = df.dropna()\n",
        "df.shape"
      ]
    },
    {
      "cell_type": "code",
      "source": [
        "df['log_LD50'] = np.log(df['LD50'])"
      ],
      "metadata": {
        "colab": {
          "base_uri": "https://localhost:8080/"
        },
        "id": "RK6gZh3h8HkK",
        "outputId": "6fc30644-e2c3-432a-c125-2ce1f9b71a38"
      },
      "id": "RK6gZh3h8HkK",
      "execution_count": 25,
      "outputs": [
        {
          "output_type": "stream",
          "name": "stderr",
          "text": [
            "<ipython-input-25-8306555011e3>:1: SettingWithCopyWarning: \n",
            "A value is trying to be set on a copy of a slice from a DataFrame.\n",
            "Try using .loc[row_indexer,col_indexer] = value instead\n",
            "\n",
            "See the caveats in the documentation: https://pandas.pydata.org/pandas-docs/stable/user_guide/indexing.html#returning-a-view-versus-a-copy\n",
            "  df['log_LD50'] = np.log(df['LD50'])\n"
          ]
        }
      ]
    },
    {
      "cell_type": "code",
      "source": [
        "df['LD50'].hist()"
      ],
      "metadata": {
        "colab": {
          "base_uri": "https://localhost:8080/",
          "height": 447
        },
        "id": "QXcD6-rD84ly",
        "outputId": "ba3197cf-b4b8-4941-9816-e15d77443dbd"
      },
      "id": "QXcD6-rD84ly",
      "execution_count": 26,
      "outputs": [
        {
          "output_type": "execute_result",
          "data": {
            "text/plain": [
              "<Axes: >"
            ]
          },
          "metadata": {},
          "execution_count": 26
        },
        {
          "output_type": "display_data",
          "data": {
            "text/plain": [
              "<Figure size 640x480 with 1 Axes>"
            ],
            "image/png": "[encoded data removed]"
          },
          "metadata": {}
        }
      ]
    },
    {
      "cell_type": "code",
      "source": [
        "df['log_LD50'].hist()"
      ],
      "metadata": {
        "colab": {
          "base_uri": "https://localhost:8080/",
          "height": 451
        },
        "id": "AFP3bio58wO7",
        "outputId": "93a253fd-0990-47c6-921b-67ca7834df8e"
      },
      "id": "AFP3bio58wO7",
      "execution_count": 27,
      "outputs": [
        {
          "output_type": "execute_result",
          "data": {
            "text/plain": [
              "<Axes: >"
            ]
          },
          "metadata": {},
          "execution_count": 27
        },
        {
          "output_type": "display_data",
          "data": {
            "text/plain": [
              "<Figure size 640x480 with 1 Axes>"
            ],
            "image/png": "[encoded data removed]"
          },
          "metadata": {}
        }
      ]
    },
    {
      "cell_type": "code",
      "execution_count": 28,
      "id": "01882960",
      "metadata": {
        "id": "01882960"
      },
      "outputs": [],
      "source": [
        "X = df.drop(columns=['LD50', 'log_LD50'])\n",
        "y = df['log_LD50']\n",
        "X_train, X_test, y_train, y_test = train_test_split(X, y, test_size=0.25, shuffle=True, random_state=123)"
      ]
    },
    {
      "cell_type": "code",
      "execution_count": 29,
      "id": "a19522d7",
      "metadata": {
        "id": "a19522d7"
      },
      "outputs": [],
      "source": [
        "num_col = X.select_dtypes(include=['number']).columns.tolist()\n",
        "cat_col = X.select_dtypes(include=['category']).columns.tolist()\n",
        "\n",
        "X_train_cat = X_train[cat_col]\n",
        "X_train_num = X_train[num_col]\n",
        "\n",
        "X_test_cat = X_test[cat_col]\n",
        "X_test_num = X_test[num_col]"
      ]
    },
    {
      "cell_type": "code",
      "source": [
        "OHE = OneHotEncoder(sparse_output=False, handle_unknown='ignore', drop = 'first')  # handle_unknown='ignore' для новых категорий в тесте\n",
        "\n",
        "\n",
        "X_train_encoded = OHE.fit_transform(X_train_cat)\n",
        "X_test_encoded = OHE.transform(X_test_cat)\n",
        "\n",
        "\n",
        "ohe_columns = OHE.get_feature_names_out(cat_col)\n",
        "X_train_cat = pd.DataFrame(X_train_encoded, columns=ohe_columns, index=X_train.index)\n",
        "X_test_cat = pd.DataFrame(X_test_encoded, columns=ohe_columns, index=X_test.index)"
      ],
      "metadata": {
        "id": "_pQLVDlG79FL"
      },
      "id": "_pQLVDlG79FL",
      "execution_count": 30,
      "outputs": []
    },
    {
      "cell_type": "code",
      "execution_count": 31,
      "id": "a2394f8f",
      "metadata": {
        "id": "a2394f8f"
      },
      "outputs": [],
      "source": [
        "scaler = MinMaxScaler()\n",
        "X_train_scaled = scaler.fit_transform(X_train[num_col])\n",
        "X_test_scaled = scaler.transform(X_test[num_col])\n",
        "\n",
        "X_train_scaled = pd.DataFrame(X_train_scaled, columns=num_col, index=X_train.index)\n",
        "X_test_scaled = pd.DataFrame(X_test_scaled, columns=num_col, index=X_test.index)"
      ]
    },
    {
      "cell_type": "code",
      "source": [
        "X_train = pd.concat([X_train_cat, X_train_scaled], axis=1)\n",
        "X_test = pd.concat([X_test_cat, X_test_scaled], axis=1)"
      ],
      "metadata": {
        "id": "HM0HtFT685pT"
      },
      "id": "HM0HtFT685pT",
      "execution_count": 32,
      "outputs": []
    },
    {
      "cell_type": "code",
      "source": [
        "X_train.head(3)"
      ],
      "metadata": {
        "colab": {
          "base_uri": "https://localhost:8080/",
          "height": 210
        },
        "id": "KC2TCg9f9Ivb",
        "outputId": "84b5bec3-10b6-4cb3-ae3a-0d867d89d81e"
      },
      "id": "KC2TCg9f9Ivb",
      "execution_count": 33,
      "outputs": [
        {
          "output_type": "execute_result",
          "data": {
            "text/plain": [
              "        Exp. Animal_rat  Method of administration_gavage  \\\n",
              "101869              1.0                              0.0   \n",
              "83272               0.0                              0.0   \n",
              "39768               0.0                              0.0   \n",
              "\n",
              "        Method of administration_inhalation  \\\n",
              "101869                                  0.0   \n",
              "83272                                   0.0   \n",
              "39768                                   0.0   \n",
              "\n",
              "        Method of administration_intramuscular  \\\n",
              "101869                                     0.0   \n",
              "83272                                      0.0   \n",
              "39768                                      0.0   \n",
              "\n",
              "        Method of administration_intramusculary  \\\n",
              "101869                                      0.0   \n",
              "83272                                       0.0   \n",
              "39768                                       0.0   \n",
              "\n",
              "        Method of administration_intraperitoneal  \\\n",
              "101869                                       0.0   \n",
              "83272                                        0.0   \n",
              "39768                                        1.0   \n",
              "\n",
              "        Method of administration_intravenous  Method of administration_oral  \\\n",
              "101869                                   0.0                            1.0   \n",
              "83272                                    1.0                            0.0   \n",
              "39768                                    0.0                            0.0   \n",
              "\n",
              "        Method of administration_percutaneous  Method of administration_sc  \\\n",
              "101869                                    0.0                          0.0   \n",
              "83272                                     0.0                          0.0   \n",
              "39768                                     0.0                          0.0   \n",
              "\n",
              "        ...  MorganFP_1015  MorganFP_1016  MorganFP_1017  MorganFP_1018  \\\n",
              "101869  ...            0.0            0.0            0.0            0.0   \n",
              "83272   ...            0.0            0.0            0.0            0.0   \n",
              "39768   ...            0.0            0.0            0.0            1.0   \n",
              "\n",
              "        MorganFP_1019  MorganFP_1020  MorganFP_1021  MorganFP_1022  \\\n",
              "101869            0.0            1.0            0.0            0.0   \n",
              "83272             0.0            0.0            0.0            0.0   \n",
              "39768             0.0            1.0            0.0            0.0   \n",
              "\n",
              "        MorganFP_1023  MorganFP_1024  \n",
              "101869            0.0            1.0  \n",
              "83272             0.0            0.0  \n",
              "39768             0.0            0.0  \n",
              "\n",
              "[3 rows x 1391 columns]"
            ],
            "text/html": [
              "\n",
              "  <div id=\"df-0711376c-1635-44d9-ac7b-e60e51817d37\" class=\"colab-df-container\">\n",
              "    <div>\n",
              "<style scoped>\n",
              "    .dataframe tbody tr th:only-of-type {\n",
              "        vertical-align: middle;\n",
              "    }\n",
              "\n",
              "    .dataframe tbody tr th {\n",
              "        vertical-align: top;\n",
              "    }\n",
              "\n",
              "    .dataframe thead th {\n",
              "        text-align: right;\n",
              "    }\n",
              "</style>\n",
              "<table border=\"1\" class=\"dataframe\">\n",
              "  <thead>\n",
              "    <tr style=\"text-align: right;\">\n",
              "      <th></th>\n",
              "      <th>Exp. Animal_rat</th>\n",
              "      <th>Method of administration_gavage</th>\n",
              "      <th>Method of administration_inhalation</th>\n",
              "      <th>Method of administration_intramuscular</th>\n",
              "      <th>Method of administration_intramusculary</th>\n",
              "      <th>Method of administration_intraperitoneal</th>\n",
              "      <th>Method of administration_intravenous</th>\n",
              "      <th>Method of administration_oral</th>\n",
              "      <th>Method of administration_percutaneous</th>\n",
              "      <th>Method of administration_sc</th>\n",
              "      <th>...</th>\n",
              "      <th>MorganFP_1015</th>\n",
              "      <th>MorganFP_1016</th>\n",
              "      <th>MorganFP_1017</th>\n",
              "      <th>MorganFP_1018</th>\n",
              "      <th>MorganFP_1019</th>\n",
              "      <th>MorganFP_1020</th>\n",
              "      <th>MorganFP_1021</th>\n",
              "      <th>MorganFP_1022</th>\n",
              "      <th>MorganFP_1023</th>\n",
              "      <th>MorganFP_1024</th>\n",
              "    </tr>\n",
              "  </thead>\n",
              "  <tbody>\n",
              "    <tr>\n",
              "      <th>101869</th>\n",
              "      <td>1.0</td>\n",
              "      <td>0.0</td>\n",
              "      <td>0.0</td>\n",
              "      <td>0.0</td>\n",
              "      <td>0.0</td>\n",
              "      <td>0.0</td>\n",
              "      <td>0.0</td>\n",
              "      <td>1.0</td>\n",
              "      <td>0.0</td>\n",
              "      <td>0.0</td>\n",
              "      <td>...</td>\n",
              "      <td>0.0</td>\n",
              "      <td>0.0</td>\n",
              "      <td>0.0</td>\n",
              "      <td>0.0</td>\n",
              "      <td>0.0</td>\n",
              "      <td>1.0</td>\n",
              "      <td>0.0</td>\n",
              "      <td>0.0</td>\n",
              "      <td>0.0</td>\n",
              "      <td>1.0</td>\n",
              "    </tr>\n",
              "    <tr>\n",
              "      <th>83272</th>\n",
              "      <td>0.0</td>\n",
              "      <td>0.0</td>\n",
              "      <td>0.0</td>\n",
              "      <td>0.0</td>\n",
              "      <td>0.0</td>\n",
              "      <td>0.0</td>\n",
              "      <td>1.0</td>\n",
              "      <td>0.0</td>\n",
              "      <td>0.0</td>\n",
              "      <td>0.0</td>\n",
              "      <td>...</td>\n",
              "      <td>0.0</td>\n",
              "      <td>0.0</td>\n",
              "      <td>0.0</td>\n",
              "      <td>0.0</td>\n",
              "      <td>0.0</td>\n",
              "      <td>0.0</td>\n",
              "      <td>0.0</td>\n",
              "      <td>0.0</td>\n",
              "      <td>0.0</td>\n",
              "      <td>0.0</td>\n",
              "    </tr>\n",
              "    <tr>\n",
              "      <th>39768</th>\n",
              "      <td>0.0</td>\n",
              "      <td>0.0</td>\n",
              "      <td>0.0</td>\n",
              "      <td>0.0</td>\n",
              "      <td>0.0</td>\n",
              "      <td>1.0</td>\n",
              "      <td>0.0</td>\n",
              "      <td>0.0</td>\n",
              "      <td>0.0</td>\n",
              "      <td>0.0</td>\n",
              "      <td>...</td>\n",
              "      <td>0.0</td>\n",
              "      <td>0.0</td>\n",
              "      <td>0.0</td>\n",
              "      <td>1.0</td>\n",
              "      <td>0.0</td>\n",
              "      <td>1.0</td>\n",
              "      <td>0.0</td>\n",
              "      <td>0.0</td>\n",
              "      <td>0.0</td>\n",
              "      <td>0.0</td>\n",
              "    </tr>\n",
              "  </tbody>\n",
              "</table>\n",
              "<p>3 rows × 1391 columns</p>\n",
              "</div>\n",
              "    <div class=\"colab-df-buttons\">\n",
              "\n",
              "  <div class=\"colab-df-container\">\n",
              "    <button class=\"colab-df-convert\" onclick=\"convertToInteractive('df-0711376c-1635-44d9-ac7b-e60e51817d37')\"\n",
              "            title=\"Convert this dataframe to an interactive table.\"\n",
              "            style=\"display:none;\">\n",
              "\n",
              "  <svg xmlns=\"http://www.w3.org/2000/svg\" height=\"24px\" viewBox=\"0 -960 960 960\">\n",
              "    <path d=\"M120-120v-720h720v720H120Zm60-500h600v-160H180v160Zm220 220h160v-160H400v160Zm0 220h160v-160H400v160ZM180-400h160v-160H180v160Zm440 0h160v-160H620v160ZM180-180h160v-160H180v160Zm440 0h160v-160H620v160Z\"/>\n",
              "  </svg>\n",
              "    </button>\n",
              "\n",
              "  <style>\n",
              "    .colab-df-container {\n",
              "      display:flex;\n",
              "      gap: 12px;\n",
              "    }\n",
              "\n",
              "    .colab-df-convert {\n",
              "      background-color: #E8F0FE;\n",
              "      border: none;\n",
              "      border-radius: 50%;\n",
              "      cursor: pointer;\n",
              "      display: none;\n",
              "      fill: #1967D2;\n",
              "      height: 32px;\n",
              "      padding: 0 0 0 0;\n",
              "      width: 32px;\n",
              "    }\n",
              "\n",
              "    .colab-df-convert:hover {\n",
              "      background-color: #E2EBFA;\n",
              "      box-shadow: 0px 1px 2px rgba(60, 64, 67, 0.3), 0px 1px 3px 1px rgba(60, 64, 67, 0.15);\n",
              "      fill: #174EA6;\n",
              "    }\n",
              "\n",
              "    .colab-df-buttons div {\n",
              "      margin-bottom: 4px;\n",
              "    }\n",
              "\n",
              "    [theme=dark] .colab-df-convert {\n",
              "      background-color: #3B4455;\n",
              "      fill: #D2E3FC;\n",
              "    }\n",
              "\n",
              "    [theme=dark] .colab-df-convert:hover {\n",
              "      background-color: #434B5C;\n",
              "      box-shadow: 0px 1px 3px 1px rgba(0, 0, 0, 0.15);\n",
              "      filter: drop-shadow(0px 1px 2px rgba(0, 0, 0, 0.3));\n",
              "      fill: #FFFFFF;\n",
              "    }\n",
              "  </style>\n",
              "\n",
              "    <script>\n",
              "      const buttonEl =\n",
              "        document.querySelector('#df-0711376c-1635-44d9-ac7b-e60e51817d37 button.colab-df-convert');\n",
              "      buttonEl.style.display =\n",
              "        google.colab.kernel.accessAllowed ? 'block' : 'none';\n",
              "\n",
              "      async function convertToInteractive(key) {\n",
              "        const element = document.querySelector('#df-0711376c-1635-44d9-ac7b-e60e51817d37');\n",
              "        const dataTable =\n",
              "          await google.colab.kernel.invokeFunction('convertToInteractive',\n",
              "                                                    [key], {});\n",
              "        if (!dataTable) return;\n",
              "\n",
              "        const docLinkHtml = 'Like what you see? Visit the ' +\n",
              "          '<a target=\"_blank\" href=https://colab.research.google.com/notebooks/data_table.ipynb>data table notebook</a>'\n",
              "          + ' to learn more about interactive tables.';\n",
              "        element.innerHTML = '';\n",
              "        dataTable['output_type'] = 'display_data';\n",
              "        await google.colab.output.renderOutput(dataTable, element);\n",
              "        const docLink = document.createElement('div');\n",
              "        docLink.innerHTML = docLinkHtml;\n",
              "        element.appendChild(docLink);\n",
              "      }\n",
              "    </script>\n",
              "  </div>\n",
              "\n",
              "\n",
              "<div id=\"df-cb8d8f18-44b0-4b0f-9da7-eb811a9655d4\">\n",
              "  <button class=\"colab-df-quickchart\" onclick=\"quickchart('df-cb8d8f18-44b0-4b0f-9da7-eb811a9655d4')\"\n",
              "            title=\"Suggest charts\"\n",
              "            style=\"display:none;\">\n",
              "\n",
              "<svg xmlns=\"http://www.w3.org/2000/svg\" height=\"24px\"viewBox=\"0 0 24 24\"\n",
              "     width=\"24px\">\n",
              "    <g>\n",
              "        <path d=\"M19 3H5c-1.1 0-2 .9-2 2v14c0 1.1.9 2 2 2h14c1.1 0 2-.9 2-2V5c0-1.1-.9-2-2-2zM9 17H7v-7h2v7zm4 0h-2V7h2v10zm4 0h-2v-4h2v4z\"/>\n",
              "    </g>\n",
              "</svg>\n",
              "  </button>\n",
              "\n",
              "<style>\n",
              "  .colab-df-quickchart {\n",
              "      --bg-color: #E8F0FE;\n",
              "      --fill-color: #1967D2;\n",
              "      --hover-bg-color: #E2EBFA;\n",
              "      --hover-fill-color: #174EA6;\n",
              "      --disabled-fill-color: #AAA;\n",
              "      --disabled-bg-color: #DDD;\n",
              "  }\n",
              "\n",
              "  [theme=dark] .colab-df-quickchart {\n",
              "      --bg-color: #3B4455;\n",
              "      --fill-color: #D2E3FC;\n",
              "      --hover-bg-color: #434B5C;\n",
              "      --hover-fill-color: #FFFFFF;\n",
              "      --disabled-bg-color: #3B4455;\n",
              "      --disabled-fill-color: #666;\n",
              "  }\n",
              "\n",
              "  .colab-df-quickchart {\n",
              "    background-color: var(--bg-color);\n",
              "    border: none;\n",
              "    border-radius: 50%;\n",
              "    cursor: pointer;\n",
              "    display: none;\n",
              "    fill: var(--fill-color);\n",
              "    height: 32px;\n",
              "    padding: 0;\n",
              "    width: 32px;\n",
              "  }\n",
              "\n",
              "  .colab-df-quickchart:hover {\n",
              "    background-color: var(--hover-bg-color);\n",
              "    box-shadow: 0 1px 2px rgba(60, 64, 67, 0.3), 0 1px 3px 1px rgba(60, 64, 67, 0.15);\n",
              "    fill: var(--button-hover-fill-color);\n",
              "  }\n",
              "\n",
              "  .colab-df-quickchart-complete:disabled,\n",
              "  .colab-df-quickchart-complete:disabled:hover {\n",
              "    background-color: var(--disabled-bg-color);\n",
              "    fill: var(--disabled-fill-color);\n",
              "    box-shadow: none;\n",
              "  }\n",
              "\n",
              "  .colab-df-spinner {\n",
              "    border: 2px solid var(--fill-color);\n",
              "    border-color: transparent;\n",
              "    border-bottom-color: var(--fill-color);\n",
              "    animation:\n",
              "      spin 1s steps(1) infinite;\n",
              "  }\n",
              "\n",
              "  @keyframes spin {\n",
              "    0% {\n",
              "      border-color: transparent;\n",
              "      border-bottom-color: var(--fill-color);\n",
              "      border-left-color: var(--fill-color);\n",
              "    }\n",
              "    20% {\n",
              "      border-color: transparent;\n",
              "      border-left-color: var(--fill-color);\n",
              "      border-top-color: var(--fill-color);\n",
              "    }\n",
              "    30% {\n",
              "      border-color: transparent;\n",
              "      border-left-color: var(--fill-color);\n",
              "      border-top-color: var(--fill-color);\n",
              "      border-right-color: var(--fill-color);\n",
              "    }\n",
              "    40% {\n",
              "      border-color: transparent;\n",
              "      border-right-color: var(--fill-color);\n",
              "      border-top-color: var(--fill-color);\n",
              "    }\n",
              "    60% {\n",
              "      border-color: transparent;\n",
              "      border-right-color: var(--fill-color);\n",
              "    }\n",
              "    80% {\n",
              "      border-color: transparent;\n",
              "      border-right-color: var(--fill-color);\n",
              "      border-bottom-color: var(--fill-color);\n",
              "    }\n",
              "    90% {\n",
              "      border-color: transparent;\n",
              "      border-bottom-color: var(--fill-color);\n",
              "    }\n",
              "  }\n",
              "</style>\n",
              "\n",
              "  <script>\n",
              "    async function quickchart(key) {\n",
              "      const quickchartButtonEl =\n",
              "        document.querySelector('#' + key + ' button');\n",
              "      quickchartButtonEl.disabled = true;  // To prevent multiple clicks.\n",
              "      quickchartButtonEl.classList.add('colab-df-spinner');\n",
              "      try {\n",
              "        const charts = await google.colab.kernel.invokeFunction(\n",
              "            'suggestCharts', [key], {});\n",
              "      } catch (error) {\n",
              "        console.error('Error during call to suggestCharts:', error);\n",
              "      }\n",
              "      quickchartButtonEl.classList.remove('colab-df-spinner');\n",
              "      quickchartButtonEl.classList.add('colab-df-quickchart-complete');\n",
              "    }\n",
              "    (() => {\n",
              "      let quickchartButtonEl =\n",
              "        document.querySelector('#df-cb8d8f18-44b0-4b0f-9da7-eb811a9655d4 button');\n",
              "      quickchartButtonEl.style.display =\n",
              "        google.colab.kernel.accessAllowed ? 'block' : 'none';\n",
              "    })();\n",
              "  </script>\n",
              "</div>\n",
              "    </div>\n",
              "  </div>\n"
            ],
            "application/vnd.google.colaboratory.intrinsic+json": {
              "type": "dataframe",
              "variable_name": "X_train"
            }
          },
          "metadata": {},
          "execution_count": 33
        }
      ]
    },
    {
      "cell_type": "code",
      "execution_count": 34,
      "id": "c2bb3ead",
      "metadata": {
        "colab": {
          "base_uri": "https://localhost:8080/"
        },
        "id": "c2bb3ead",
        "outputId": "48f85f67-140a-47cf-b736-93751bca26df"
      },
      "outputs": [
        {
          "output_type": "stream",
          "name": "stdout",
          "text": [
            "r2 на трейне =0.12721329549762195\n",
            "r2 на тесте =0.10428218306476089\n",
            "MAPE на трейне =16.298627464461433\n",
            "MAPE на тесте =30.045583857530566\n"
          ]
        }
      ],
      "source": [
        "lr = LinearRegression()\n",
        "lr.fit(X_train, y_train)\n",
        "\n",
        "y_pred = lr.predict(X_test)\n",
        "score = r2_score(y_test, y_pred)\n",
        "print(f\"r2 на трейне ={r2_score(np.exp(y_train), np.exp(lr.predict(X_train)))}\")\n",
        "print(f\"r2 на тесте ={r2_score(np.exp(y_test), np.exp(y_pred))}\")\n",
        "\n",
        "print(f\"MAPE на трейне ={mean_absolute_percentage_error(np.exp(y_train), np.exp(lr.predict(X_train)))}\")\n",
        "print(f\"MAPE на тесте ={mean_absolute_percentage_error(np.exp(y_test), np.exp(y_pred))}\")"
      ]
    },
    {
      "cell_type": "code",
      "execution_count": 35,
      "id": "5eeff5cf",
      "metadata": {
        "colab": {
          "base_uri": "https://localhost:8080/"
        },
        "id": "5eeff5cf",
        "outputId": "36bfdd0f-9755-430e-fc16-11fc1e9ab354"
      },
      "outputs": [
        {
          "output_type": "stream",
          "name": "stdout",
          "text": [
            "-914.7859214652798\n",
            "[-0.00526064 -0.7716004  -0.43272621 ...  0.02107334 -0.08517563\n",
            " -0.08531189]\n"
          ]
        }
      ],
      "source": [
        "print(lr.intercept_)\n",
        "print(lr.coef_)"
      ]
    },
    {
      "cell_type": "code",
      "source": [
        "series_with_coefs = pd.Series(lr.coef_, index = X_train.columns, name = 'weights').sort_values(ascending = False).head(10)\n",
        "series_with_coefs"
      ],
      "metadata": {
        "colab": {
          "base_uri": "https://localhost:8080/",
          "height": 398
        },
        "id": "ZWAXudbUPzcN",
        "outputId": "0768f62c-333a-4c31-82ef-df541b9ab2c2"
      },
      "id": "ZWAXudbUPzcN",
      "execution_count": 36,
      "outputs": [
        {
          "output_type": "execute_result",
          "data": {
            "text/plain": [
              "MaxAbsEStateIndex                     4.925143e+11\n",
              "NumAromaticHeterocycles               9.019980e+10\n",
              "fr_COO                                7.519897e+10\n",
              "NumAromaticCarbocycles                7.328733e+10\n",
              "NumAliphaticHeterocycles              6.450429e+10\n",
              "NumAliphaticCarbocycles               3.993123e+10\n",
              "GROUPIA(ALKALIMETAL)                  1.795658e+10\n",
              "fr_Ar_NH                              1.679522e+10\n",
              "GROUPIVA,VA,VIAPERIODS45447(Ge...)    7.979061e+09\n",
              "NumSaturatedRings                     7.552297e+09\n",
              "Name: weights, dtype: float64"
            ],
            "text/html": [
              "<div>\n",
              "<style scoped>\n",
              "    .dataframe tbody tr th:only-of-type {\n",
              "        vertical-align: middle;\n",
              "    }\n",
              "\n",
              "    .dataframe tbody tr th {\n",
              "        vertical-align: top;\n",
              "    }\n",
              "\n",
              "    .dataframe thead th {\n",
              "        text-align: right;\n",
              "    }\n",
              "</style>\n",
              "<table border=\"1\" class=\"dataframe\">\n",
              "  <thead>\n",
              "    <tr style=\"text-align: right;\">\n",
              "      <th></th>\n",
              "      <th>weights</th>\n",
              "    </tr>\n",
              "  </thead>\n",
              "  <tbody>\n",
              "    <tr>\n",
              "      <th>MaxAbsEStateIndex</th>\n",
              "      <td>4.925143e+11</td>\n",
              "    </tr>\n",
              "    <tr>\n",
              "      <th>NumAromaticHeterocycles</th>\n",
              "      <td>9.019980e+10</td>\n",
              "    </tr>\n",
              "    <tr>\n",
              "      <th>fr_COO</th>\n",
              "      <td>7.519897e+10</td>\n",
              "    </tr>\n",
              "    <tr>\n",
              "      <th>NumAromaticCarbocycles</th>\n",
              "      <td>7.328733e+10</td>\n",
              "    </tr>\n",
              "    <tr>\n",
              "      <th>NumAliphaticHeterocycles</th>\n",
              "      <td>6.450429e+10</td>\n",
              "    </tr>\n",
              "    <tr>\n",
              "      <th>NumAliphaticCarbocycles</th>\n",
              "      <td>3.993123e+10</td>\n",
              "    </tr>\n",
              "    <tr>\n",
              "      <th>GROUPIA(ALKALIMETAL)</th>\n",
              "      <td>1.795658e+10</td>\n",
              "    </tr>\n",
              "    <tr>\n",
              "      <th>fr_Ar_NH</th>\n",
              "      <td>1.679522e+10</td>\n",
              "    </tr>\n",
              "    <tr>\n",
              "      <th>GROUPIVA,VA,VIAPERIODS45447(Ge...)</th>\n",
              "      <td>7.979061e+09</td>\n",
              "    </tr>\n",
              "    <tr>\n",
              "      <th>NumSaturatedRings</th>\n",
              "      <td>7.552297e+09</td>\n",
              "    </tr>\n",
              "  </tbody>\n",
              "</table>\n",
              "</div><br><label><b>dtype:</b> float64</label>"
            ]
          },
          "metadata": {},
          "execution_count": 36
        }
      ]
    },
    {
      "cell_type": "markdown",
      "source": [
        "Исходя из различий метрик практически в 2 раза, что на трейне, что на тесте можно сказать, что модель переобучилась."
      ],
      "metadata": {
        "id": "B1cHOSal_3RS"
      },
      "id": "B1cHOSal_3RS"
    },
    {
      "cell_type": "code",
      "execution_count": 37,
      "id": "6e2432a8",
      "metadata": {
        "colab": {
          "base_uri": "https://localhost:8080/"
        },
        "id": "6e2432a8",
        "outputId": "e6851f2a-bbb4-4f0a-d40a-d63b36b049fb"
      },
      "outputs": [
        {
          "output_type": "stream",
          "name": "stdout",
          "text": [
            "Размерность после PCA:\n",
            "X_train_pca: (69370, 792), X_test_pca: (23124, 792)\n"
          ]
        }
      ],
      "source": [
        "from sklearn.decomposition import PCA\n",
        "pca = PCA(n_components=0.95)  # 95% объяснённой дисперсии\n",
        "\n",
        "# Подгоняем PCA на тренировочных данных и трансформируем их\n",
        "X_train_pca = pca.fit_transform(X_train)\n",
        "\n",
        "# Трансформируем тестовые данные с помощью уже подогнанного PCA\n",
        "X_test_pca = pca.transform(X_test)\n",
        "\n",
        "# Проверяем, как изменилась размерность данных\n",
        "print(\"Размерность после PCA:\")\n",
        "print(f\"X_train_pca: {X_train_pca.shape}, X_test_pca: {X_test_pca.shape}\")"
      ]
    },
    {
      "cell_type": "code",
      "source": [
        "lr_pca = LinearRegression()\n",
        "lr_pca.fit(X_train_pca, y_train)\n",
        "\n",
        "y_pred = lr_pca.predict(X_test_pca)\n",
        "score = r2_score(y_test, y_pred)\n",
        "print(f\"r2 на трейне ={r2_score(np.exp(y_train), np.exp(lr_pca.predict(X_train_pca)))}\")\n",
        "print(f\"r2 на тесте ={r2_score(np.exp(y_test), np.exp(y_pred))}\")\n",
        "\n",
        "print(f\"MAPE на трейне ={mean_absolute_percentage_error(np.exp(y_train), np.exp(lr_pca.predict(X_train_pca)))}\")\n",
        "print(f\"MAPE на тесте ={mean_absolute_percentage_error(np.exp(y_test), np.exp(y_pred))}\")"
      ],
      "metadata": {
        "colab": {
          "base_uri": "https://localhost:8080/"
        },
        "id": "4OPTocnEUulq",
        "outputId": "435562d2-3970-477b-ca3a-f7991e4a8956"
      },
      "id": "4OPTocnEUulq",
      "execution_count": 38,
      "outputs": [
        {
          "output_type": "stream",
          "name": "stdout",
          "text": [
            "r2 на трейне =0.1341350053886754\n",
            "r2 на тесте =0.11704943255427103\n",
            "MAPE на трейне =22.409831415161744\n",
            "MAPE на тесте =41.56230719239008\n"
          ]
        }
      ]
    },
    {
      "cell_type": "code",
      "source": [
        "print(\"Доли объяснённой дисперсии каждой компоненты:\")\n",
        "print(pca.explained_variance_ratio_)\n",
        "\n",
        "# Кумулятивная доля дисперсии\n",
        "cumulative_variance = np.cumsum(pca.explained_variance_ratio_)\n",
        "\n",
        "import matplotlib.pyplot as plt\n",
        "plt.plot(range(1, len(cumulative_variance) + 1), cumulative_variance, marker='o')\n",
        "plt.title('Кумулятивная доля объяснённой дисперсии')\n",
        "plt.xlabel('Число главных компонент')\n",
        "plt.ylabel('Кумулятивная доля дисперсии')\n",
        "plt.grid()\n",
        "plt.show()"
      ],
      "metadata": {
        "colab": {
          "base_uri": "https://localhost:8080/",
          "height": 1000
        },
        "id": "uql1a-IgWDIO",
        "outputId": "7cbca758-df83-4b9e-8f33-f8265da7abcc"
      },
      "id": "uql1a-IgWDIO",
      "execution_count": 39,
      "outputs": [
        {
          "output_type": "stream",
          "name": "stdout",
          "text": [
            "Доли объяснённой дисперсии каждой компоненты:\n",
            "[0.06001025 0.04766499 0.04088874 0.02869921 0.02393538 0.02247206\n",
            " 0.01927585 0.01679345 0.01643308 0.01507131 0.01370249 0.01286122\n",
            " 0.01076501 0.01030514 0.00955238 0.00908174 0.0084688  0.00824832\n",
            " 0.00784887 0.00732219 0.00686393 0.00683869 0.00666452 0.00625898\n",
            " 0.00599398 0.00593605 0.00564794 0.00562205 0.00542408 0.00524203\n",
            " 0.00499431 0.00487484 0.00479054 0.00465664 0.00448783 0.00433847\n",
            " 0.00427767 0.00416118 0.00400328 0.00398042 0.00384052 0.00370066\n",
            " 0.00352728 0.00346777 0.00341418 0.00334703 0.00323437 0.00322324\n",
            " 0.00320085 0.00313983 0.0030594  0.00302645 0.00298831 0.00292121\n",
            " 0.00287666 0.00285438 0.00277442 0.00273766 0.00271627 0.00265526\n",
            " 0.00264929 0.00259585 0.00252854 0.00250339 0.00245548 0.00240763\n",
            " 0.00239775 0.00231227 0.0023069  0.00227151 0.00223976 0.00220587\n",
            " 0.00218503 0.00215664 0.0021246  0.00208532 0.00207275 0.00203601\n",
            " 0.00202392 0.00196176 0.00195806 0.0019325  0.00191968 0.00189818\n",
            " 0.00187495 0.00185574 0.00183304 0.00181393 0.00178677 0.00177612\n",
            " 0.00177147 0.00175166 0.00172204 0.00170219 0.0016724  0.00165399\n",
            " 0.00164219 0.00162584 0.00161271 0.00159516 0.00158615 0.00156262\n",
            " 0.0015442  0.00154014 0.00151971 0.00149667 0.0014824  0.00146061\n",
            " 0.00144257 0.00143294 0.0014177  0.0013966  0.00138303 0.00137659\n",
            " 0.0013731  0.00135807 0.00134183 0.0013377  0.0013235  0.00132174\n",
            " 0.0013099  0.00130111 0.00127417 0.00126463 0.00125974 0.00125173\n",
            " 0.0012352  0.00123284 0.00121737 0.00120593 0.00119908 0.00119267\n",
            " 0.00118797 0.00116501 0.00116345 0.00115831 0.00115227 0.00114075\n",
            " 0.00113065 0.00112063 0.00111856 0.00110175 0.00109295 0.00108221\n",
            " 0.00107381 0.0010664  0.00105826 0.00105155 0.00104773 0.00103646\n",
            " 0.00103438 0.0010283  0.00102208 0.00100923 0.00100866 0.00099829\n",
            " 0.00098737 0.00098205 0.00097934 0.00096928 0.00095987 0.0009564\n",
            " 0.00094515 0.00094475 0.00093867 0.00093225 0.00092839 0.00091714\n",
            " 0.00091309 0.00090938 0.00090876 0.00090198 0.00089577 0.00088812\n",
            " 0.00087901 0.00087214 0.0008694  0.00086295 0.00085483 0.00085096\n",
            " 0.00084612 0.00084277 0.00083942 0.00083464 0.00083273 0.00082468\n",
            " 0.00081845 0.00081395 0.0008089  0.0008088  0.00080458 0.00080138\n",
            " 0.00079722 0.00079184 0.00078434 0.00078095 0.00077789 0.00077242\n",
            " 0.00077061 0.00076341 0.00076202 0.00075937 0.00075516 0.00075143\n",
            " 0.00074737 0.000746   0.00074135 0.00073988 0.0007307  0.00073042\n",
            " 0.0007232  0.00072119 0.00071657 0.00071401 0.00071024 0.00070271\n",
            " 0.00069743 0.00069658 0.0006951  0.0006913  0.00068971 0.00068637\n",
            " 0.00068206 0.00067496 0.00067181 0.00066808 0.000665   0.00066273\n",
            " 0.00066107 0.0006565  0.00065106 0.00064863 0.00064662 0.00064421\n",
            " 0.00064267 0.00063991 0.00063493 0.00063371 0.00063232 0.00062906\n",
            " 0.00062392 0.00062169 0.00061916 0.00061862 0.0006139  0.00060976\n",
            " 0.00060869 0.00060727 0.00060418 0.00060205 0.0005978  0.00059478\n",
            " 0.00059241 0.00059155 0.00058837 0.0005881  0.00058299 0.00058228\n",
            " 0.00058095 0.0005788  0.00057442 0.00057428 0.00057239 0.00057043\n",
            " 0.00056832 0.00056455 0.00056075 0.00055911 0.00055838 0.00055637\n",
            " 0.00055545 0.00055388 0.00055148 0.00054973 0.00054672 0.00054428\n",
            " 0.00054088 0.00053969 0.00053885 0.00053628 0.00053439 0.00053206\n",
            " 0.00053092 0.00052746 0.00052503 0.00052393 0.00052302 0.00052167\n",
            " 0.00052052 0.00051756 0.00051672 0.00051524 0.00051267 0.00051213\n",
            " 0.00050951 0.00050744 0.00050614 0.00050466 0.00050224 0.00050104\n",
            " 0.00049843 0.00049743 0.00049634 0.00049549 0.00049485 0.00049251\n",
            " 0.00048758 0.00048638 0.00048536 0.00048454 0.00048268 0.0004808\n",
            " 0.0004793  0.00047814 0.00047608 0.00047581 0.00047432 0.00047113\n",
            " 0.00047086 0.00046825 0.00046558 0.0004652  0.00046393 0.00046256\n",
            " 0.00046089 0.0004588  0.00045816 0.00045648 0.00045615 0.00045263\n",
            " 0.0004521  0.00045109 0.00045065 0.00044882 0.00044791 0.00044672\n",
            " 0.00044487 0.00044389 0.00044315 0.0004417  0.00044144 0.00043913\n",
            " 0.00043787 0.00043594 0.00043482 0.00043314 0.00043126 0.00043027\n",
            " 0.00042993 0.00042896 0.00042705 0.00042558 0.00042507 0.00042212\n",
            " 0.00042022 0.00041954 0.00041926 0.00041766 0.00041707 0.00041498\n",
            " 0.00041462 0.00041242 0.00041158 0.00041049 0.00040882 0.00040845\n",
            " 0.00040752 0.00040655 0.00040527 0.00040407 0.00040332 0.00040202\n",
            " 0.00040125 0.00039951 0.00039853 0.00039649 0.00039505 0.00039485\n",
            " 0.00039406 0.00039232 0.00039207 0.00039097 0.00038986 0.00038892\n",
            " 0.00038757 0.00038728 0.00038575 0.00038432 0.00038353 0.00038303\n",
            " 0.00038153 0.0003805  0.00038023 0.00037918 0.00037904 0.000376\n",
            " 0.00037568 0.0003743  0.00037401 0.00037377 0.00037232 0.00037189\n",
            " 0.00037134 0.00037037 0.00036875 0.00036799 0.00036678 0.00036607\n",
            " 0.00036544 0.00036447 0.00036362 0.00036176 0.00036162 0.00036106\n",
            " 0.00036016 0.00036011 0.00035909 0.00035816 0.00035744 0.00035648\n",
            " 0.00035565 0.00035413 0.00035322 0.00035238 0.00035127 0.00035\n",
            " 0.00034976 0.00034909 0.00034799 0.00034704 0.00034514 0.00034453\n",
            " 0.00034398 0.00034334 0.00034313 0.00034263 0.00034203 0.00034101\n",
            " 0.00034037 0.00033825 0.00033793 0.00033733 0.00033631 0.00033587\n",
            " 0.00033518 0.00033403 0.0003332  0.00033278 0.00033175 0.00033079\n",
            " 0.0003307  0.00032963 0.0003291  0.00032762 0.00032624 0.00032595\n",
            " 0.00032549 0.00032515 0.00032391 0.00032379 0.00032328 0.00032179\n",
            " 0.00032045 0.00031983 0.0003197  0.00031823 0.00031798 0.00031787\n",
            " 0.00031672 0.00031584 0.00031509 0.00031466 0.00031422 0.00031332\n",
            " 0.00031247 0.00031217 0.00031107 0.00031059 0.00030977 0.00030921\n",
            " 0.00030883 0.00030869 0.00030787 0.0003076  0.00030633 0.00030512\n",
            " 0.00030472 0.0003042  0.00030337 0.00030307 0.00030211 0.00030138\n",
            " 0.00030095 0.0003004  0.00029924 0.00029878 0.00029841 0.00029752\n",
            " 0.00029708 0.00029648 0.00029564 0.00029547 0.00029491 0.00029398\n",
            " 0.00029361 0.00029313 0.00029298 0.0002923  0.00029169 0.0002906\n",
            " 0.0002901  0.00028936 0.00028896 0.00028789 0.00028734 0.00028686\n",
            " 0.00028622 0.00028575 0.000285   0.00028445 0.00028383 0.00028335\n",
            " 0.00028302 0.00028219 0.00028194 0.00028116 0.00028106 0.00028001\n",
            " 0.00027917 0.00027887 0.00027834 0.00027778 0.00027683 0.00027578\n",
            " 0.00027553 0.00027543 0.00027475 0.00027445 0.00027344 0.00027299\n",
            " 0.00027223 0.00027205 0.00027161 0.00027154 0.00027043 0.00026965\n",
            " 0.00026936 0.00026921 0.00026842 0.00026775 0.00026739 0.00026664\n",
            " 0.00026645 0.00026595 0.00026567 0.00026513 0.00026441 0.00026374\n",
            " 0.00026364 0.00026301 0.00026245 0.00026225 0.00026162 0.00026153\n",
            " 0.00026076 0.00026018 0.00025994 0.00025951 0.00025883 0.00025857\n",
            " 0.00025812 0.00025756 0.00025705 0.00025638 0.00025571 0.00025507\n",
            " 0.00025494 0.0002543  0.00025399 0.00025361 0.00025312 0.0002524\n",
            " 0.00025191 0.00025126 0.00025106 0.00025056 0.0002499  0.00024978\n",
            " 0.00024875 0.00024848 0.00024807 0.00024767 0.00024718 0.00024698\n",
            " 0.00024626 0.00024601 0.00024553 0.00024472 0.00024449 0.00024433\n",
            " 0.00024384 0.00024293 0.00024277 0.00024216 0.00024181 0.00024148\n",
            " 0.00024122 0.00024091 0.00024044 0.00024011 0.0002397  0.00023914\n",
            " 0.00023908 0.00023828 0.00023787 0.00023711 0.00023703 0.00023667\n",
            " 0.00023639 0.00023577 0.00023515 0.00023463 0.00023437 0.00023405\n",
            " 0.00023328 0.00023289 0.00023264 0.00023196 0.00023168 0.00023109\n",
            " 0.00023091 0.00023018 0.00022995 0.00022984 0.00022954 0.000229\n",
            " 0.00022867 0.00022831 0.00022779 0.00022743 0.00022686 0.00022662\n",
            " 0.00022612 0.00022567 0.00022559 0.00022503 0.00022483 0.00022438\n",
            " 0.00022428 0.00022341 0.00022296 0.00022279 0.00022246 0.00022186\n",
            " 0.00022174 0.00022159 0.00022082 0.00022048 0.00022019 0.00021986\n",
            " 0.00021956 0.00021925 0.0002188  0.00021863 0.0002181  0.00021801\n",
            " 0.00021729 0.00021683 0.00021654 0.00021597 0.00021586 0.00021541\n",
            " 0.00021504 0.00021466 0.00021448 0.00021439 0.00021383 0.00021371\n",
            " 0.00021319 0.00021282 0.00021239 0.00021236 0.00021215 0.0002112\n",
            " 0.00021101 0.0002109  0.00021014 0.00020973 0.0002092  0.0002091\n",
            " 0.00020889 0.00020816 0.00020803 0.00020748 0.0002071  0.00020643\n",
            " 0.00020603 0.000206   0.00020581 0.0002055  0.00020523 0.0002048\n",
            " 0.00020436 0.000204   0.00020345 0.0002031  0.0002027  0.00020236\n",
            " 0.00020219 0.00020186 0.0002018  0.00020152 0.00020095 0.00020019\n",
            " 0.00019995 0.00019944 0.00019917 0.00019901 0.00019889 0.00019837\n",
            " 0.00019822 0.00019781 0.0001973  0.00019709 0.00019681 0.00019664\n",
            " 0.00019617 0.00019579 0.00019551 0.00019523 0.00019477 0.00019444\n",
            " 0.00019437 0.00019396 0.00019338 0.00019323 0.00019272 0.00019257\n",
            " 0.00019218 0.00019176 0.00019141 0.0001913  0.00019102 0.0001909\n",
            " 0.00019058 0.00019025 0.00018958 0.00018934 0.00018926 0.00018895\n",
            " 0.00018881 0.00018817 0.00018778 0.00018769 0.0001874  0.00018724\n",
            " 0.00018674 0.00018665 0.00018644 0.00018601 0.00018587 0.00018556\n",
            " 0.00018508 0.00018493 0.00018451 0.00018398 0.00018384 0.00018366\n",
            " 0.0001836  0.0001832  0.00018262 0.00018254 0.00018215 0.0001819\n",
            " 0.00018161 0.00018124 0.00018102 0.00018091 0.00018032 0.00018016\n",
            " 0.00018003 0.00017975 0.00017943 0.00017921 0.00017903 0.0001782\n",
            " 0.00017805 0.00017767 0.00017749 0.0001772  0.00017689 0.00017676]\n"
          ]
        },
        {
          "output_type": "display_data",
          "data": {
            "text/plain": [
              "<Figure size 640x480 with 1 Axes>"
            ],
            "image/png": "[encoded data removed]"
          },
          "metadata": {}
        }
      ]
    },
    {
      "cell_type": "code",
      "source": [
        "#переводим в датафрейм\n",
        "X_train_pca_df = pd.DataFrame(X_train_pca, columns=[f'PC{i+1}' for i in range(X_train_pca.shape[1])])\n",
        "\n",
        "# lr_pca.coef_ должен быть массивом с коэффициентами линейной регрессии\n",
        "coefs_pca = pd.Series(lr_pca.coef_, index=X_train_pca_df.columns, name='weights').sort_values(ascending=False)\n",
        "coefs_pca.head(10)"
      ],
      "metadata": {
        "colab": {
          "base_uri": "https://localhost:8080/",
          "height": 398
        },
        "id": "0yvO45H7VlyU",
        "outputId": "255082b1-49b9-4557-a74b-2bb43a11a69d"
      },
      "id": "0yvO45H7VlyU",
      "execution_count": 40,
      "outputs": [
        {
          "output_type": "execute_result",
          "data": {
            "text/plain": [
              "PC604    0.450778\n",
              "PC528    0.414968\n",
              "PC134    0.414584\n",
              "PC40     0.410443\n",
              "PC372    0.409956\n",
              "PC32     0.386873\n",
              "PC737    0.385967\n",
              "PC44     0.371869\n",
              "PC359    0.369749\n",
              "PC113    0.366769\n",
              "Name: weights, dtype: float64"
            ],
            "text/html": [
              "<div>\n",
              "<style scoped>\n",
              "    .dataframe tbody tr th:only-of-type {\n",
              "        vertical-align: middle;\n",
              "    }\n",
              "\n",
              "    .dataframe tbody tr th {\n",
              "        vertical-align: top;\n",
              "    }\n",
              "\n",
              "    .dataframe thead th {\n",
              "        text-align: right;\n",
              "    }\n",
              "</style>\n",
              "<table border=\"1\" class=\"dataframe\">\n",
              "  <thead>\n",
              "    <tr style=\"text-align: right;\">\n",
              "      <th></th>\n",
              "      <th>weights</th>\n",
              "    </tr>\n",
              "  </thead>\n",
              "  <tbody>\n",
              "    <tr>\n",
              "      <th>PC604</th>\n",
              "      <td>0.450778</td>\n",
              "    </tr>\n",
              "    <tr>\n",
              "      <th>PC528</th>\n",
              "      <td>0.414968</td>\n",
              "    </tr>\n",
              "    <tr>\n",
              "      <th>PC134</th>\n",
              "      <td>0.414584</td>\n",
              "    </tr>\n",
              "    <tr>\n",
              "      <th>PC40</th>\n",
              "      <td>0.410443</td>\n",
              "    </tr>\n",
              "    <tr>\n",
              "      <th>PC372</th>\n",
              "      <td>0.409956</td>\n",
              "    </tr>\n",
              "    <tr>\n",
              "      <th>PC32</th>\n",
              "      <td>0.386873</td>\n",
              "    </tr>\n",
              "    <tr>\n",
              "      <th>PC737</th>\n",
              "      <td>0.385967</td>\n",
              "    </tr>\n",
              "    <tr>\n",
              "      <th>PC44</th>\n",
              "      <td>0.371869</td>\n",
              "    </tr>\n",
              "    <tr>\n",
              "      <th>PC359</th>\n",
              "      <td>0.369749</td>\n",
              "    </tr>\n",
              "    <tr>\n",
              "      <th>PC113</th>\n",
              "      <td>0.366769</td>\n",
              "    </tr>\n",
              "  </tbody>\n",
              "</table>\n",
              "</div><br><label><b>dtype:</b> float64</label>"
            ]
          },
          "metadata": {},
          "execution_count": 40
        }
      ]
    },
    {
      "cell_type": "markdown",
      "source": [
        "Видим, что коэффициенты модели уменьшились. Наш датасет с признаками представляет собой разреженную матрицу, можно попробовать адаптировать PCA как раз для модели разреженных данных."
      ],
      "metadata": {
        "id": "sJn75Pz0ZeNe"
      },
      "id": "sJn75Pz0ZeNe"
    },
    {
      "cell_type": "code",
      "source": [
        "from sklearn.feature_selection import SelectKBest, f_regression\n",
        "from sklearn.decomposition import TruncatedSVD\n",
        "\n",
        "# Применение SVD\n",
        "svd = TruncatedSVD(n_components=600, random_state=42)  # Сохраняем 500 главных компонент\n",
        "X_train_pca_upgrade = svd.fit_transform(X_train)          # Применяем SVD на тренировочные данные\n",
        "X_test_pca_upgrade = svd.transform(X_test)                # Применяем SVD на тестовые данные\n",
        "\n",
        "print(f\"Размер X_train до SVD: {X_train.shape}\")\n",
        "print(f\"Размер X_train после SVD: {X_train_pca_upgrade.shape}\")\n",
        "print(f\"Размер X_test после SVD: {X_test_pca_upgrade.shape}\")\n",
        "\n",
        "# === Обучение линейной регрессии на данных уменьшенной размерности ===\n",
        "lr_pca_upgrade = LinearRegression()\n",
        "lr_pca_upgrade.fit(X_train_pca_upgrade, y_train)\n",
        "\n",
        "# === Оценка модели ===\n",
        "y_train_preds = lr_pca_upgrade.predict(X_train_pca_upgrade)  # Предсказания для тренировки\n",
        "y_test_preds = lr_pca_upgrade.predict(X_test_pca_upgrade)    # Предсказания для теста\n",
        "\n",
        "print(f\"R2 на трейне = {r2_score(np.exp(y_train), np.exp(y_train_preds)):.4f}\")\n",
        "print(f\"R2 на тесте = {r2_score(np.exp(y_test), np.exp(y_test_preds)):.4f}\")\n",
        "\n",
        "print(f\"MAPE на трейне = {mean_absolute_percentage_error(np.exp(y_train), np.exp(y_train_preds)):.4f}\")\n",
        "print(f\"MAPE на тесте = {mean_absolute_percentage_error(np.exp(y_test), np.exp(y_test_preds)):.4f}\")"
      ],
      "metadata": {
        "colab": {
          "base_uri": "https://localhost:8080/"
        },
        "id": "EYRwZHV6ZkpW",
        "outputId": "c2825ab7-e0bf-4f15-8dc1-d151c7f31aac"
      },
      "id": "EYRwZHV6ZkpW",
      "execution_count": 41,
      "outputs": [
        {
          "output_type": "stream",
          "name": "stdout",
          "text": [
            "Размер X_train до SVD: (69370, 1391)\n",
            "Размер X_train после SVD: (69370, 600)\n",
            "Размер X_test после SVD: (23124, 600)\n",
            "R2 на трейне = 0.1266\n",
            "R2 на тесте = 0.1085\n",
            "MAPE на трейне = 26.2026\n",
            "MAPE на тесте = 51.1306\n"
          ]
        }
      ]
    },
    {
      "cell_type": "code",
      "source": [
        "print(f\"Доля объясненной дисперсии: {svd.explained_variance_ratio_.sum() * 100:.2f}%\")"
      ],
      "metadata": {
        "colab": {
          "base_uri": "https://localhost:8080/"
        },
        "id": "lW55Xz7HZoAl",
        "outputId": "88b6b28d-02d8-4002-9001-da21050e79ac"
      },
      "id": "lW55Xz7HZoAl",
      "execution_count": 42,
      "outputs": [
        {
          "output_type": "stream",
          "name": "stdout",
          "text": [
            "Доля объясненной дисперсии: 90.87%\n"
          ]
        }
      ]
    },
    {
      "cell_type": "code",
      "source": [
        "selector = SelectKBest(score_func=f_regression, k=500)\n",
        "X_train_selected = selector.fit_transform(X_train, y_train)\n",
        "X_test_selected = selector.transform(X_test)\n",
        "\n",
        "# Проверить значимость признаков\n",
        "selected_features = selector.get_support(indices=True)\n",
        "#print(\"Выбранные признаки:\", selected_features)\n",
        "\n",
        "\n",
        "lr_kbest = LinearRegression()\n",
        "lr_kbest.fit(X_train_selected, y_train)\n",
        "\n",
        "# Предсказания и оценка\n",
        "y_pred = lr_kbest.predict(X_test_selected)\n",
        "\n",
        "\n",
        "print(f\"R2 на трейне = {r2_score(y_train, lr_kbest.predict(X_train_selected)):.4f}\")\n",
        "print(f\"R2 на тесте = {r2_score(y_test, lr_kbest.predict(X_test_selected)):.4f}\")\n",
        "\n",
        "print(f\"MAPE на трейне = {mean_absolute_percentage_error(np.exp(y_train), np.exp(lr_kbest.predict(X_train_selected))):.4f}\")\n",
        "print(f\"MAPE на тесте = {mean_absolute_percentage_error(np.exp(y_test), np.exp(lr_kbest.predict(X_test_selected))):.4f}\")"
      ],
      "metadata": {
        "colab": {
          "base_uri": "https://localhost:8080/"
        },
        "id": "OHGRcNxQZoEU",
        "outputId": "02022146-529d-4a61-83e3-13010b6ea91f"
      },
      "id": "OHGRcNxQZoEU",
      "execution_count": 43,
      "outputs": [
        {
          "output_type": "stream",
          "name": "stdout",
          "text": [
            "R2 на трейне = 0.4436\n",
            "R2 на тесте = 0.4240\n",
            "MAPE на трейне = 27.2351\n",
            "MAPE на тесте = 43.0379\n"
          ]
        }
      ]
    },
    {
      "cell_type": "code",
      "source": [
        "X_train.head()"
      ],
      "metadata": {
        "id": "Z1m917scZoKP",
        "colab": {
          "base_uri": "https://localhost:8080/",
          "height": 273
        },
        "outputId": "43779b83-bb09-4da9-b652-487aeefb9e62"
      },
      "id": "Z1m917scZoKP",
      "execution_count": 44,
      "outputs": [
        {
          "output_type": "execute_result",
          "data": {
            "text/plain": [
              "        Exp. Animal_rat  Method of administration_gavage  \\\n",
              "101869              1.0                              0.0   \n",
              "83272               0.0                              0.0   \n",
              "39768               0.0                              0.0   \n",
              "51273               0.0                              0.0   \n",
              "63780               0.0                              0.0   \n",
              "\n",
              "        Method of administration_inhalation  \\\n",
              "101869                                  0.0   \n",
              "83272                                   0.0   \n",
              "39768                                   0.0   \n",
              "51273                                   0.0   \n",
              "63780                                   0.0   \n",
              "\n",
              "        Method of administration_intramuscular  \\\n",
              "101869                                     0.0   \n",
              "83272                                      0.0   \n",
              "39768                                      0.0   \n",
              "51273                                      0.0   \n",
              "63780                                      0.0   \n",
              "\n",
              "        Method of administration_intramusculary  \\\n",
              "101869                                      0.0   \n",
              "83272                                       0.0   \n",
              "39768                                       0.0   \n",
              "51273                                       0.0   \n",
              "63780                                       0.0   \n",
              "\n",
              "        Method of administration_intraperitoneal  \\\n",
              "101869                                       0.0   \n",
              "83272                                        0.0   \n",
              "39768                                        1.0   \n",
              "51273                                        0.0   \n",
              "63780                                        1.0   \n",
              "\n",
              "        Method of administration_intravenous  Method of administration_oral  \\\n",
              "101869                                   0.0                            1.0   \n",
              "83272                                    1.0                            0.0   \n",
              "39768                                    0.0                            0.0   \n",
              "51273                                    1.0                            0.0   \n",
              "63780                                    0.0                            0.0   \n",
              "\n",
              "        Method of administration_percutaneous  Method of administration_sc  \\\n",
              "101869                                    0.0                          0.0   \n",
              "83272                                     0.0                          0.0   \n",
              "39768                                     0.0                          0.0   \n",
              "51273                                     0.0                          0.0   \n",
              "63780                                     0.0                          0.0   \n",
              "\n",
              "        ...  MorganFP_1015  MorganFP_1016  MorganFP_1017  MorganFP_1018  \\\n",
              "101869  ...            0.0            0.0            0.0            0.0   \n",
              "83272   ...            0.0            0.0            0.0            0.0   \n",
              "39768   ...            0.0            0.0            0.0            1.0   \n",
              "51273   ...            0.0            0.0            0.0            0.0   \n",
              "63780   ...            0.0            0.0            0.0            0.0   \n",
              "\n",
              "        MorganFP_1019  MorganFP_1020  MorganFP_1021  MorganFP_1022  \\\n",
              "101869            0.0            1.0            0.0            0.0   \n",
              "83272             0.0            0.0            0.0            0.0   \n",
              "39768             0.0            1.0            0.0            0.0   \n",
              "51273             0.0            1.0            0.0            0.0   \n",
              "63780             0.0            0.0            0.0            0.0   \n",
              "\n",
              "        MorganFP_1023  MorganFP_1024  \n",
              "101869            0.0            1.0  \n",
              "83272             0.0            0.0  \n",
              "39768             0.0            0.0  \n",
              "51273             0.0            1.0  \n",
              "63780             0.0            0.0  \n",
              "\n",
              "[5 rows x 1391 columns]"
            ],
            "text/html": [
              "\n",
              "  <div id=\"df-ae5f0443-245c-4ee0-bbf6-4912f8da62bb\" class=\"colab-df-container\">\n",
              "    <div>\n",
              "<style scoped>\n",
              "    .dataframe tbody tr th:only-of-type {\n",
              "        vertical-align: middle;\n",
              "    }\n",
              "\n",
              "    .dataframe tbody tr th {\n",
              "        vertical-align: top;\n",
              "    }\n",
              "\n",
              "    .dataframe thead th {\n",
              "        text-align: right;\n",
              "    }\n",
              "</style>\n",
              "<table border=\"1\" class=\"dataframe\">\n",
              "  <thead>\n",
              "    <tr style=\"text-align: right;\">\n",
              "      <th></th>\n",
              "      <th>Exp. Animal_rat</th>\n",
              "      <th>Method of administration_gavage</th>\n",
              "      <th>Method of administration_inhalation</th>\n",
              "      <th>Method of administration_intramuscular</th>\n",
              "      <th>Method of administration_intramusculary</th>\n",
              "      <th>Method of administration_intraperitoneal</th>\n",
              "      <th>Method of administration_intravenous</th>\n",
              "      <th>Method of administration_oral</th>\n",
              "      <th>Method of administration_percutaneous</th>\n",
              "      <th>Method of administration_sc</th>\n",
              "      <th>...</th>\n",
              "      <th>MorganFP_1015</th>\n",
              "      <th>MorganFP_1016</th>\n",
              "      <th>MorganFP_1017</th>\n",
              "      <th>MorganFP_1018</th>\n",
              "      <th>MorganFP_1019</th>\n",
              "      <th>MorganFP_1020</th>\n",
              "      <th>MorganFP_1021</th>\n",
              "      <th>MorganFP_1022</th>\n",
              "      <th>MorganFP_1023</th>\n",
              "      <th>MorganFP_1024</th>\n",
              "    </tr>\n",
              "  </thead>\n",
              "  <tbody>\n",
              "    <tr>\n",
              "      <th>101869</th>\n",
              "      <td>1.0</td>\n",
              "      <td>0.0</td>\n",
              "      <td>0.0</td>\n",
              "      <td>0.0</td>\n",
              "      <td>0.0</td>\n",
              "      <td>0.0</td>\n",
              "      <td>0.0</td>\n",
              "      <td>1.0</td>\n",
              "      <td>0.0</td>\n",
              "      <td>0.0</td>\n",
              "      <td>...</td>\n",
              "      <td>0.0</td>\n",
              "      <td>0.0</td>\n",
              "      <td>0.0</td>\n",
              "      <td>0.0</td>\n",
              "      <td>0.0</td>\n",
              "      <td>1.0</td>\n",
              "      <td>0.0</td>\n",
              "      <td>0.0</td>\n",
              "      <td>0.0</td>\n",
              "      <td>1.0</td>\n",
              "    </tr>\n",
              "    <tr>\n",
              "      <th>83272</th>\n",
              "      <td>0.0</td>\n",
              "      <td>0.0</td>\n",
              "      <td>0.0</td>\n",
              "      <td>0.0</td>\n",
              "      <td>0.0</td>\n",
              "      <td>0.0</td>\n",
              "      <td>1.0</td>\n",
              "      <td>0.0</td>\n",
              "      <td>0.0</td>\n",
              "      <td>0.0</td>\n",
              "      <td>...</td>\n",
              "      <td>0.0</td>\n",
              "      <td>0.0</td>\n",
              "      <td>0.0</td>\n",
              "      <td>0.0</td>\n",
              "      <td>0.0</td>\n",
              "      <td>0.0</td>\n",
              "      <td>0.0</td>\n",
              "      <td>0.0</td>\n",
              "      <td>0.0</td>\n",
              "      <td>0.0</td>\n",
              "    </tr>\n",
              "    <tr>\n",
              "      <th>39768</th>\n",
              "      <td>0.0</td>\n",
              "      <td>0.0</td>\n",
              "      <td>0.0</td>\n",
              "      <td>0.0</td>\n",
              "      <td>0.0</td>\n",
              "      <td>1.0</td>\n",
              "      <td>0.0</td>\n",
              "      <td>0.0</td>\n",
              "      <td>0.0</td>\n",
              "      <td>0.0</td>\n",
              "      <td>...</td>\n",
              "      <td>0.0</td>\n",
              "      <td>0.0</td>\n",
              "      <td>0.0</td>\n",
              "      <td>1.0</td>\n",
              "      <td>0.0</td>\n",
              "      <td>1.0</td>\n",
              "      <td>0.0</td>\n",
              "      <td>0.0</td>\n",
              "      <td>0.0</td>\n",
              "      <td>0.0</td>\n",
              "    </tr>\n",
              "    <tr>\n",
              "      <th>51273</th>\n",
              "      <td>0.0</td>\n",
              "      <td>0.0</td>\n",
              "      <td>0.0</td>\n",
              "      <td>0.0</td>\n",
              "      <td>0.0</td>\n",
              "      <td>0.0</td>\n",
              "      <td>1.0</td>\n",
              "      <td>0.0</td>\n",
              "      <td>0.0</td>\n",
              "      <td>0.0</td>\n",
              "      <td>...</td>\n",
              "      <td>0.0</td>\n",
              "      <td>0.0</td>\n",
              "      <td>0.0</td>\n",
              "      <td>0.0</td>\n",
              "      <td>0.0</td>\n",
              "      <td>1.0</td>\n",
              "      <td>0.0</td>\n",
              "      <td>0.0</td>\n",
              "      <td>0.0</td>\n",
              "      <td>1.0</td>\n",
              "    </tr>\n",
              "    <tr>\n",
              "      <th>63780</th>\n",
              "      <td>0.0</td>\n",
              "      <td>0.0</td>\n",
              "      <td>0.0</td>\n",
              "      <td>0.0</td>\n",
              "      <td>0.0</td>\n",
              "      <td>1.0</td>\n",
              "      <td>0.0</td>\n",
              "      <td>0.0</td>\n",
              "      <td>0.0</td>\n",
              "      <td>0.0</td>\n",
              "      <td>...</td>\n",
              "      <td>0.0</td>\n",
              "      <td>0.0</td>\n",
              "      <td>0.0</td>\n",
              "      <td>0.0</td>\n",
              "      <td>0.0</td>\n",
              "      <td>0.0</td>\n",
              "      <td>0.0</td>\n",
              "      <td>0.0</td>\n",
              "      <td>0.0</td>\n",
              "      <td>0.0</td>\n",
              "    </tr>\n",
              "  </tbody>\n",
              "</table>\n",
              "<p>5 rows × 1391 columns</p>\n",
              "</div>\n",
              "    <div class=\"colab-df-buttons\">\n",
              "\n",
              "  <div class=\"colab-df-container\">\n",
              "    <button class=\"colab-df-convert\" onclick=\"convertToInteractive('df-ae5f0443-245c-4ee0-bbf6-4912f8da62bb')\"\n",
              "            title=\"Convert this dataframe to an interactive table.\"\n",
              "            style=\"display:none;\">\n",
              "\n",
              "  <svg xmlns=\"http://www.w3.org/2000/svg\" height=\"24px\" viewBox=\"0 -960 960 960\">\n",
              "    <path d=\"M120-120v-720h720v720H120Zm60-500h600v-160H180v160Zm220 220h160v-160H400v160Zm0 220h160v-160H400v160ZM180-400h160v-160H180v160Zm440 0h160v-160H620v160ZM180-180h160v-160H180v160Zm440 0h160v-160H620v160Z\"/>\n",
              "  </svg>\n",
              "    </button>\n",
              "\n",
              "  <style>\n",
              "    .colab-df-container {\n",
              "      display:flex;\n",
              "      gap: 12px;\n",
              "    }\n",
              "\n",
              "    .colab-df-convert {\n",
              "      background-color: #E8F0FE;\n",
              "      border: none;\n",
              "      border-radius: 50%;\n",
              "      cursor: pointer;\n",
              "      display: none;\n",
              "      fill: #1967D2;\n",
              "      height: 32px;\n",
              "      padding: 0 0 0 0;\n",
              "      width: 32px;\n",
              "    }\n",
              "\n",
              "    .colab-df-convert:hover {\n",
              "      background-color: #E2EBFA;\n",
              "      box-shadow: 0px 1px 2px rgba(60, 64, 67, 0.3), 0px 1px 3px 1px rgba(60, 64, 67, 0.15);\n",
              "      fill: #174EA6;\n",
              "    }\n",
              "\n",
              "    .colab-df-buttons div {\n",
              "      margin-bottom: 4px;\n",
              "    }\n",
              "\n",
              "    [theme=dark] .colab-df-convert {\n",
              "      background-color: #3B4455;\n",
              "      fill: #D2E3FC;\n",
              "    }\n",
              "\n",
              "    [theme=dark] .colab-df-convert:hover {\n",
              "      background-color: #434B5C;\n",
              "      box-shadow: 0px 1px 3px 1px rgba(0, 0, 0, 0.15);\n",
              "      filter: drop-shadow(0px 1px 2px rgba(0, 0, 0, 0.3));\n",
              "      fill: #FFFFFF;\n",
              "    }\n",
              "  </style>\n",
              "\n",
              "    <script>\n",
              "      const buttonEl =\n",
              "        document.querySelector('#df-ae5f0443-245c-4ee0-bbf6-4912f8da62bb button.colab-df-convert');\n",
              "      buttonEl.style.display =\n",
              "        google.colab.kernel.accessAllowed ? 'block' : 'none';\n",
              "\n",
              "      async function convertToInteractive(key) {\n",
              "        const element = document.querySelector('#df-ae5f0443-245c-4ee0-bbf6-4912f8da62bb');\n",
              "        const dataTable =\n",
              "          await google.colab.kernel.invokeFunction('convertToInteractive',\n",
              "                                                    [key], {});\n",
              "        if (!dataTable) return;\n",
              "\n",
              "        const docLinkHtml = 'Like what you see? Visit the ' +\n",
              "          '<a target=\"_blank\" href=https://colab.research.google.com/notebooks/data_table.ipynb>data table notebook</a>'\n",
              "          + ' to learn more about interactive tables.';\n",
              "        element.innerHTML = '';\n",
              "        dataTable['output_type'] = 'display_data';\n",
              "        await google.colab.output.renderOutput(dataTable, element);\n",
              "        const docLink = document.createElement('div');\n",
              "        docLink.innerHTML = docLinkHtml;\n",
              "        element.appendChild(docLink);\n",
              "      }\n",
              "    </script>\n",
              "  </div>\n",
              "\n",
              "\n",
              "<div id=\"df-e26240a2-e426-4d22-b516-3e94885f8ef0\">\n",
              "  <button class=\"colab-df-quickchart\" onclick=\"quickchart('df-e26240a2-e426-4d22-b516-3e94885f8ef0')\"\n",
              "            title=\"Suggest charts\"\n",
              "            style=\"display:none;\">\n",
              "\n",
              "<svg xmlns=\"http://www.w3.org/2000/svg\" height=\"24px\"viewBox=\"0 0 24 24\"\n",
              "     width=\"24px\">\n",
              "    <g>\n",
              "        <path d=\"M19 3H5c-1.1 0-2 .9-2 2v14c0 1.1.9 2 2 2h14c1.1 0 2-.9 2-2V5c0-1.1-.9-2-2-2zM9 17H7v-7h2v7zm4 0h-2V7h2v10zm4 0h-2v-4h2v4z\"/>\n",
              "    </g>\n",
              "</svg>\n",
              "  </button>\n",
              "\n",
              "<style>\n",
              "  .colab-df-quickchart {\n",
              "      --bg-color: #E8F0FE;\n",
              "      --fill-color: #1967D2;\n",
              "      --hover-bg-color: #E2EBFA;\n",
              "      --hover-fill-color: #174EA6;\n",
              "      --disabled-fill-color: #AAA;\n",
              "      --disabled-bg-color: #DDD;\n",
              "  }\n",
              "\n",
              "  [theme=dark] .colab-df-quickchart {\n",
              "      --bg-color: #3B4455;\n",
              "      --fill-color: #D2E3FC;\n",
              "      --hover-bg-color: #434B5C;\n",
              "      --hover-fill-color: #FFFFFF;\n",
              "      --disabled-bg-color: #3B4455;\n",
              "      --disabled-fill-color: #666;\n",
              "  }\n",
              "\n",
              "  .colab-df-quickchart {\n",
              "    background-color: var(--bg-color);\n",
              "    border: none;\n",
              "    border-radius: 50%;\n",
              "    cursor: pointer;\n",
              "    display: none;\n",
              "    fill: var(--fill-color);\n",
              "    height: 32px;\n",
              "    padding: 0;\n",
              "    width: 32px;\n",
              "  }\n",
              "\n",
              "  .colab-df-quickchart:hover {\n",
              "    background-color: var(--hover-bg-color);\n",
              "    box-shadow: 0 1px 2px rgba(60, 64, 67, 0.3), 0 1px 3px 1px rgba(60, 64, 67, 0.15);\n",
              "    fill: var(--button-hover-fill-color);\n",
              "  }\n",
              "\n",
              "  .colab-df-quickchart-complete:disabled,\n",
              "  .colab-df-quickchart-complete:disabled:hover {\n",
              "    background-color: var(--disabled-bg-color);\n",
              "    fill: var(--disabled-fill-color);\n",
              "    box-shadow: none;\n",
              "  }\n",
              "\n",
              "  .colab-df-spinner {\n",
              "    border: 2px solid var(--fill-color);\n",
              "    border-color: transparent;\n",
              "    border-bottom-color: var(--fill-color);\n",
              "    animation:\n",
              "      spin 1s steps(1) infinite;\n",
              "  }\n",
              "\n",
              "  @keyframes spin {\n",
              "    0% {\n",
              "      border-color: transparent;\n",
              "      border-bottom-color: var(--fill-color);\n",
              "      border-left-color: var(--fill-color);\n",
              "    }\n",
              "    20% {\n",
              "      border-color: transparent;\n",
              "      border-left-color: var(--fill-color);\n",
              "      border-top-color: var(--fill-color);\n",
              "    }\n",
              "    30% {\n",
              "      border-color: transparent;\n",
              "      border-left-color: var(--fill-color);\n",
              "      border-top-color: var(--fill-color);\n",
              "      border-right-color: var(--fill-color);\n",
              "    }\n",
              "    40% {\n",
              "      border-color: transparent;\n",
              "      border-right-color: var(--fill-color);\n",
              "      border-top-color: var(--fill-color);\n",
              "    }\n",
              "    60% {\n",
              "      border-color: transparent;\n",
              "      border-right-color: var(--fill-color);\n",
              "    }\n",
              "    80% {\n",
              "      border-color: transparent;\n",
              "      border-right-color: var(--fill-color);\n",
              "      border-bottom-color: var(--fill-color);\n",
              "    }\n",
              "    90% {\n",
              "      border-color: transparent;\n",
              "      border-bottom-color: var(--fill-color);\n",
              "    }\n",
              "  }\n",
              "</style>\n",
              "\n",
              "  <script>\n",
              "    async function quickchart(key) {\n",
              "      const quickchartButtonEl =\n",
              "        document.querySelector('#' + key + ' button');\n",
              "      quickchartButtonEl.disabled = true;  // To prevent multiple clicks.\n",
              "      quickchartButtonEl.classList.add('colab-df-spinner');\n",
              "      try {\n",
              "        const charts = await google.colab.kernel.invokeFunction(\n",
              "            'suggestCharts', [key], {});\n",
              "      } catch (error) {\n",
              "        console.error('Error during call to suggestCharts:', error);\n",
              "      }\n",
              "      quickchartButtonEl.classList.remove('colab-df-spinner');\n",
              "      quickchartButtonEl.classList.add('colab-df-quickchart-complete');\n",
              "    }\n",
              "    (() => {\n",
              "      let quickchartButtonEl =\n",
              "        document.querySelector('#df-e26240a2-e426-4d22-b516-3e94885f8ef0 button');\n",
              "      quickchartButtonEl.style.display =\n",
              "        google.colab.kernel.accessAllowed ? 'block' : 'none';\n",
              "    })();\n",
              "  </script>\n",
              "</div>\n",
              "    </div>\n",
              "  </div>\n"
            ],
            "application/vnd.google.colaboratory.intrinsic+json": {
              "type": "dataframe",
              "variable_name": "X_train"
            }
          },
          "metadata": {},
          "execution_count": 44
        }
      ]
    },
    {
      "cell_type": "code",
      "source": [
        "!pip install tqdm"
      ],
      "metadata": {
        "colab": {
          "base_uri": "https://localhost:8080/"
        },
        "id": "NePsHBjX6BuL",
        "outputId": "4551c583-b03a-44b3-b2a2-c579fb30a1c5"
      },
      "id": "NePsHBjX6BuL",
      "execution_count": 45,
      "outputs": [
        {
          "output_type": "stream",
          "name": "stdout",
          "text": [
            "Requirement already satisfied: tqdm in /usr/local/lib/python3.10/dist-packages (4.66.6)\n"
          ]
        }
      ]
    },
    {
      "cell_type": "code",
      "source": [
        "from sklearn.model_selection import GridSearchCV\n",
        "\n",
        "param_grid = {'alpha': [1e-4, 1e-3, 1e-2]}\n",
        "grid_search = GridSearchCV(Lasso(random_state=42), param_grid, scoring='neg_mean_absolute_error', cv=4, verbose = 1)\n",
        "grid_search.fit(X_train_pca, y_train)\n",
        "print(\"Лучший параметр alpha:\", grid_search.best_params_)"
      ],
      "metadata": {
        "id": "c3QNZJziZoM2",
        "colab": {
          "base_uri": "https://localhost:8080/"
        },
        "outputId": "9cb079e8-11e2-4598-8b28-3eea8047a1aa"
      },
      "id": "c3QNZJziZoM2",
      "execution_count": 49,
      "outputs": [
        {
          "output_type": "stream",
          "name": "stdout",
          "text": [
            "Fitting 4 folds for each of 3 candidates, totalling 12 fits\n",
            "Лучший параметр alpha: {'alpha': 0.001}\n"
          ]
        }
      ]
    },
    {
      "cell_type": "code",
      "source": [
        "grid_search.best_score_"
      ],
      "metadata": {
        "id": "Uy9iGHmIZoPt",
        "colab": {
          "base_uri": "https://localhost:8080/"
        },
        "outputId": "925a33a9-55e1-450a-a6cf-4d736c68bedc"
      },
      "id": "Uy9iGHmIZoPt",
      "execution_count": 51,
      "outputs": [
        {
          "output_type": "execute_result",
          "data": {
            "text/plain": [
              "-1.015910764275217"
            ]
          },
          "metadata": {},
          "execution_count": 51
        }
      ]
    }
  ],
  "metadata": {
    "kernelspec": {
      "display_name": "Python 3 (ipykernel)",
      "language": "python",
      "name": "python3"
    },
    "language_info": {
      "codemirror_mode": {
        "name": "ipython",
        "version": 3
      },
      "file_extension": ".py",
      "mimetype": "text/x-python",
      "name": "python",
      "nbconvert_exporter": "python",
      "pygments_lexer": "ipython3",
      "version": "3.9.13"
    },
    "colab": {
      "provenance": [],
      "include_colab_link": true
    }
  },
  "nbformat": 4,
  "nbformat_minor": 5
}