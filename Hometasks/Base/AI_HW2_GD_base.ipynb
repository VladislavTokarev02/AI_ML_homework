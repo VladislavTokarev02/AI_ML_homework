{
  "nbformat": 4,
  "nbformat_minor": 0,
  "metadata": {
    "colab": {
      "provenance": [],
      "include_colab_link": true
    },
    "kernelspec": {
      "name": "python3",
      "display_name": "Python 3"
    },
    "language_info": {
      "name": "python"
    }
  },
  "cells": [
    {
      "cell_type": "markdown",
      "metadata": {
        "id": "view-in-github",
        "colab_type": "text"
      },
      "source": [
        "<a href=\"https://colab.research.google.com/github/VladislavTokarev02/AI_ML_homework/blob/main/Hometasks/Base/AI_HW2_GD_base.ipynb\" target=\"_parent\"><img src=\"https://colab.research.google.com/assets/colab-badge.svg\" alt=\"Open In Colab\"/></a>"
      ]
    },
    {
      "cell_type": "markdown",
      "source": [
        "# **Домашнее задание 2: Градиентный спуск (base)**\n",
        "\n",
        "В этом задании две части - теоретическая и практическая. Теорию можно набирать, используя LaTex или просто решать на листочке, сфотографировать и отправить вместе с заполненным ноутбуком в anytask.\n",
        "\n",
        "Максимальный балл за домашнее задание: min{10, ваш балл}."
      ],
      "metadata": {
        "id": "guCadZBdPCjE"
      }
    },
    {
      "cell_type": "markdown",
      "source": [
        "## Задание 1 (0.5 балла)\n",
        "\n"
      ],
      "metadata": {
        "id": "GpeTR__0Y94X"
      }
    },
    {
      "cell_type": "markdown",
      "source": [
        "Найдите экстремумы следующих функций (вручную, где возможно) и укажите их тип (максимум, минимум):\n",
        "\n",
        "a) $f(x) = x^2 - 30x + 1$\n",
        "\n",
        "b) $g(x) = -x^3 + 5x - 7x^2 + 17$\n",
        "\n",
        "c) $h(x) = x^2 - 1/x$\n",
        "\n",
        "d) $j(x) = 1/x^5 + x^{17} + 8$"
      ],
      "metadata": {
        "id": "s6-0KV1AZAgM"
      }
    },
    {
      "cell_type": "markdown",
      "source": [
        "## Задание 2 (1 балл)"
      ],
      "metadata": {
        "id": "R5KQ7t_YZHa5"
      }
    },
    {
      "cell_type": "markdown",
      "source": [
        "Найдите экстремумы этих функций в Python."
      ],
      "metadata": {
        "id": "dIiGSRoEZPCU"
      }
    },
    {
      "cell_type": "code",
      "source": [
        "!pip install sympy"
      ],
      "metadata": {
        "id": "R-0ppaxEHDPd",
        "outputId": "4d23c3cf-a3a7-4031-f8b1-7f90ecb38778",
        "colab": {
          "base_uri": "https://localhost:8080/"
        }
      },
      "execution_count": 1,
      "outputs": [
        {
          "output_type": "stream",
          "name": "stdout",
          "text": [
            "Requirement already satisfied: sympy in /usr/local/lib/python3.10/dist-packages (1.13.1)\n",
            "Requirement already satisfied: mpmath<1.4,>=1.1.0 in /usr/local/lib/python3.10/dist-packages (from sympy) (1.3.0)\n"
          ]
        }
      ]
    },
    {
      "cell_type": "code",
      "source": [
        "import sympy as sp"
      ],
      "metadata": {
        "id": "3bxs1l75HK10"
      },
      "execution_count": 2,
      "outputs": []
    },
    {
      "cell_type": "code",
      "source": [
        "x = sp.Symbol('x')"
      ],
      "metadata": {
        "id": "C8lBq-X9HOuF"
      },
      "execution_count": 3,
      "outputs": []
    },
    {
      "cell_type": "code",
      "source": [
        "df_x = sp.diff(x**2 - 30 * x + 1)\n",
        "sp.solve(df_x)\n",
        "'''\n",
        "15>0 - точка минимума\n",
        "на самом деле, данный вывод можно сделать исходя из того, что точка минимума параболы достигается в -b/2a\n",
        "'''"
      ],
      "metadata": {
        "id": "3el58j8vHVFM",
        "outputId": "2c162605-ded2-4e9f-89ef-3645d0f9f110",
        "colab": {
          "base_uri": "https://localhost:8080/",
          "height": 35
        }
      },
      "execution_count": 4,
      "outputs": [
        {
          "output_type": "execute_result",
          "data": {
            "text/plain": [
              "'\\n15>0 - точка минимума\\nна самом деле, данный вывод можно сделать исходя из того, что точка минимума параболы достигается в -b/2a\\n'"
            ],
            "application/vnd.google.colaboratory.intrinsic+json": {
              "type": "string"
            }
          },
          "metadata": {},
          "execution_count": 4
        }
      ]
    },
    {
      "cell_type": "code",
      "source": [
        "dg_x = sp.diff(-x**3 - 7*x**2 + 5*x +17)\n",
        "solver = sp.solve(dg_x)\n",
        "dg_x2 = sp.diff(dg_x)\n",
        "print(dg_x2.subs(x, solver[0])) # 16>0 - точка минимума\n",
        "dg_x2.subs(x, solver[1]) # -16<0 - точка максимума"
      ],
      "metadata": {
        "id": "dti3_-8jJ2qh",
        "outputId": "f4338f67-de57-4f9c-b716-059018f1263a",
        "colab": {
          "base_uri": "https://localhost:8080/",
          "height": 55
        }
      },
      "execution_count": 19,
      "outputs": [
        {
          "output_type": "stream",
          "name": "stdout",
          "text": [
            "16\n"
          ]
        },
        {
          "output_type": "execute_result",
          "data": {
            "text/plain": [
              "-16"
            ],
            "text/latex": "$\\displaystyle -16$"
          },
          "metadata": {},
          "execution_count": 19
        }
      ]
    },
    {
      "cell_type": "code",
      "source": [
        "dh_x = sp.diff(x**2 - 1/x)\n",
        "solver = sp.solve(dh_x)\n",
        "dh_x2 = sp.diff(dh_x)\n",
        "print(dh_x2.subs(x, solver[0])) # 6>0 - точка минимума\n",
        "dh_x2.subs(x, solver[1]) # не интерпретируемо"
      ],
      "metadata": {
        "id": "7Z3zXNFaHer1",
        "outputId": "27ce7ddb-c721-4ca7-a233-25912e3a2930",
        "colab": {
          "base_uri": "https://localhost:8080/",
          "height": 99
        }
      },
      "execution_count": 6,
      "outputs": [
        {
          "output_type": "stream",
          "name": "stdout",
          "text": [
            "6\n"
          ]
        },
        {
          "output_type": "execute_result",
          "data": {
            "text/plain": [
              "2 - 2/(2**(2/3)/4 - 2**(2/3)*sqrt(3)*I/4)**3"
            ],
            "text/latex": "$\\displaystyle 2 - \\frac{2}{\\left(\\frac{2^{\\frac{2}{3}}}{4} - \\frac{2^{\\frac{2}{3}} \\sqrt{3} i}{4}\\right)^{3}}$"
          },
          "metadata": {},
          "execution_count": 6
        }
      ]
    },
    {
      "cell_type": "code",
      "source": [
        "dj_x = sp.diff(1/(x**5) + x**17+8)\n",
        "solver = sp.solve(dj_x)\n",
        "dj_x2 = sp.diff(dj_x)\n",
        "print(dj_x2.subs(x, solver[0])) # <0 - точка максимума\n",
        "dj_x2.subs(x, solver[1]) # >0 - точка минимума"
      ],
      "metadata": {
        "id": "XpJqmCsSNpS4",
        "outputId": "b14edea1-41e1-4392-e05e-4098482366d4",
        "colab": {
          "base_uri": "https://localhost:8080/",
          "height": 57
        }
      },
      "execution_count": 7,
      "outputs": [
        {
          "output_type": "stream",
          "name": "stdout",
          "text": [
            "-22*17**(7/22)*5**(15/22)\n"
          ]
        },
        {
          "output_type": "execute_result",
          "data": {
            "text/plain": [
              "22*17**(7/22)*5**(15/22)"
            ],
            "text/latex": "$\\displaystyle 22 \\cdot 17^{\\frac{7}{22}} \\cdot 5^{\\frac{15}{22}}$"
          },
          "metadata": {},
          "execution_count": 7
        }
      ]
    },
    {
      "cell_type": "markdown",
      "source": [
        "## Задание 3 (1 балл)"
      ],
      "metadata": {
        "id": "c-WbzOlDZHth"
      }
    },
    {
      "cell_type": "markdown",
      "source": [
        "Найдите точки перегиба функций из задания 1 (вручную, где возможно)."
      ],
      "metadata": {
        "id": "VrUtzHpKZWlI"
      }
    },
    {
      "cell_type": "markdown",
      "source": [
        "## Задание 4 (1 балла)"
      ],
      "metadata": {
        "id": "uziMS9grZHyR"
      }
    },
    {
      "cell_type": "code",
      "source": [
        "d2f_x = sp.diff(df_x)\n",
        "print(d2f_x) #нет точек перегиба"
      ],
      "metadata": {
        "id": "ALHwKwIVFd0R",
        "outputId": "73fb8303-a5d7-42e9-e310-5857471354f0",
        "colab": {
          "base_uri": "https://localhost:8080/",
          "height": 37
        }
      },
      "execution_count": 8,
      "outputs": [
        {
          "output_type": "execute_result",
          "data": {
            "text/plain": [
              "2"
            ],
            "text/latex": "$\\displaystyle 2$"
          },
          "metadata": {},
          "execution_count": 8
        }
      ]
    },
    {
      "cell_type": "code",
      "source": [
        "d2g_x = sp.diff(dg_x)\n",
        "print(d2g_x)\n",
        "solver_d2g_x = sp.solve(d2g_x)\n",
        "f\"точка перегиба = {solver_d2g_x}\""
      ],
      "metadata": {
        "id": "ZV-_VSRkF9WL",
        "outputId": "82be7f41-0846-435e-dcbf-5535987587ed",
        "colab": {
          "base_uri": "https://localhost:8080/",
          "height": 53
        }
      },
      "execution_count": 13,
      "outputs": [
        {
          "output_type": "stream",
          "name": "stdout",
          "text": [
            "-6*x - 14\n"
          ]
        },
        {
          "output_type": "execute_result",
          "data": {
            "text/plain": [
              "'точка перегиба = [-7/3]'"
            ],
            "application/vnd.google.colaboratory.intrinsic+json": {
              "type": "string"
            }
          },
          "metadata": {},
          "execution_count": 13
        }
      ]
    },
    {
      "cell_type": "markdown",
      "source": [
        "Найдите точки перегиба этих функций в Python."
      ],
      "metadata": {
        "id": "FC6aj98nZXJA"
      }
    },
    {
      "cell_type": "code",
      "source": [
        "d2h_x = sp.diff(dh_x)\n",
        "print(d2h_x)\n",
        "solver_d2h_x = sp.solve(d2h_x)\n",
        "f\"точка перегиба = {solver_d2h_x}\""
      ],
      "metadata": {
        "id": "MwxxbwqFGswJ",
        "outputId": "5e62900d-ea46-4e75-b913-fd7368fec749",
        "colab": {
          "base_uri": "https://localhost:8080/",
          "height": 53
        }
      },
      "execution_count": 20,
      "outputs": [
        {
          "output_type": "stream",
          "name": "stdout",
          "text": [
            "2 - 2/x**3\n"
          ]
        },
        {
          "output_type": "execute_result",
          "data": {
            "text/plain": [
              "'точка перегиба = [1, -1/2 - sqrt(3)*I/2, -1/2 + sqrt(3)*I/2]'"
            ],
            "application/vnd.google.colaboratory.intrinsic+json": {
              "type": "string"
            }
          },
          "metadata": {},
          "execution_count": 20
        }
      ]
    },
    {
      "cell_type": "code",
      "source": [
        "# your code here"
      ],
      "metadata": {
        "id": "UHg7_ixBZtIv"
      },
      "execution_count": null,
      "outputs": []
    },
    {
      "cell_type": "code",
      "source": [
        "d2j_x = sp.diff(dj_x)\n",
        "print(d2j_x)\n",
        "solver_d2j_x = sp.solve(d2j_x)\n",
        "f\"точка перегиба = {solver_d2j_x}\""
      ],
      "metadata": {
        "id": "Mq8TPsqrIX8a",
        "outputId": "a91a6af0-e27e-4a8d-fa6e-778ccf88cf62",
        "colab": {
          "base_uri": "https://localhost:8080/",
          "height": 105
        }
      },
      "execution_count": 21,
      "outputs": [
        {
          "output_type": "stream",
          "name": "stdout",
          "text": [
            "272*x**15 + 30/x**7\n"
          ]
        },
        {
          "output_type": "execute_result",
          "data": {
            "text/plain": [
              "'точка перегиба = [-543361077710752838169347099197440**(1/22)*cos(pi/22)/34 - 543361077710752838169347099197440**(1/22)*I*sin(pi/22)/34, 543361077710752838169347099197440**(1/22)*cos(pi/22)/34 + 543361077710752838169347099197440**(1/22)*I*sin(pi/22)/34, -543361077710752838169347099197440**(1/22)*sin(pi/22)*sin(pi/11)/34 + 543361077710752838169347099197440**(1/22)*cos(pi/22)*cos(pi/11)/34 + 543361077710752838169347099197440**(1/22)*I*sin(pi/22)*cos(pi/11)/34 + 543361077710752838169347099197440**(1/22)*I*sin(pi/11)*cos(pi/22)/34, 543361077710752838169347099197440**(1/22)*sin(pi/22)*sin(pi/11)/34 + 543361077710752838169347099197440**(1/22)*cos(pi/22)*cos(pi/11)/34 - 543361077710752838169347099197440**(1/22)*I*sin(pi/11)*cos(pi/22)/34 + 543361077710752838169347099197440**(1/22)*I*sin(pi/22)*cos(pi/11)/34, -543361077710752838169347099197440**(1/22)*sin(pi/22)*sin(2*pi/11)/34 + 543361077710752838169347099197440**(1/22)*cos(pi/22)*cos(2*pi/11)/34 + 543361077710752838169347099197440**(1/22)*I*sin(pi/22)*cos(2*pi/11)/34 + 543361077710752838169347099197440**(1/22)*I*sin(2*pi/11)*cos(pi/22)/34, 543361077710752838169347099197440**(1/22)*sin(pi/22)*sin(2*pi/11)/34 + 543361077710752838169347099197440**(1/22)*cos(pi/22)*cos(2*pi/11)/34 - 543361077710752838169347099197440**(1/22)*I*sin(2*pi/11)*cos(pi/22)/34 + 543361077710752838169347099197440**(1/22)*I*sin(pi/22)*cos(2*pi/11)/34, -543361077710752838169347099197440**(1/22)*sin(pi/22)*sin(3*pi/11)/34 + 543361077710752838169347099197440**(1/22)*cos(pi/22)*cos(3*pi/11)/34 + 543361077710752838169347099197440**(1/22)*I*sin(pi/22)*cos(3*pi/11)/34 + 543361077710752838169347099197440**(1/22)*I*sin(3*pi/11)*cos(pi/22)/34, 543361077710752838169347099197440**(1/22)*sin(pi/22)*sin(3*pi/11)/34 + 543361077710752838169347099197440**(1/22)*cos(pi/22)*cos(3*pi/11)/34 - 543361077710752838169347099197440**(1/22)*I*sin(3*pi/11)*cos(pi/22)/34 + 543361077710752838169347099197440**(1/22)*I*sin(pi/22)*cos(3*pi/11)/34, -543361077710752838169347099197440**(1/22)*sin(pi/22)*sin(4*pi/11)/34 + 543361077710752838169347099197440**(1/22)*cos(pi/22)*cos(4*pi/11)/34 + 543361077710752838169347099197440**(1/22)*I*sin(pi/22)*cos(4*pi/11)/34 + 543361077710752838169347099197440**(1/22)*I*sin(4*pi/11)*cos(pi/22)/34, 543361077710752838169347099197440**(1/22)*sin(pi/22)*sin(4*pi/11)/34 + 543361077710752838169347099197440**(1/22)*cos(pi/22)*cos(4*pi/11)/34 - 543361077710752838169347099197440**(1/22)*I*sin(4*pi/11)*cos(pi/22)/34 + 543361077710752838169347099197440**(1/22)*I*sin(pi/22)*cos(4*pi/11)/34, -543361077710752838169347099197440**(1/22)*sin(pi/22)*sin(5*pi/11)/34 + 543361077710752838169347099197440**(1/22)*cos(pi/22)*cos(5*pi/11)/34 + 543361077710752838169347099197440**(1/22)*I*sin(pi/22)*cos(5*pi/11)/34 + 543361077710752838169347099197440**(1/22)*I*sin(5*pi/11)*cos(pi/22)/34, -543361077710752838169347099197440**(1/22)*cos(pi/22)*cos(pi/11)/34 - 543361077710752838169347099197440**(1/22)*sin(pi/22)*sin(pi/11)/34 - 543361077710752838169347099197440**(1/22)*I*sin(pi/22)*cos(pi/11)/34 + 543361077710752838169347099197440**(1/22)*I*sin(pi/11)*cos(pi/22)/34, -543361077710752838169347099197440**(1/22)*cos(pi/22)*cos(pi/11)/34 + 543361077710752838169347099197440**(1/22)*sin(pi/22)*sin(pi/11)/34 - 543361077710752838169347099197440**(1/22)*I*sin(pi/11)*cos(pi/22)/34 - 543361077710752838169347099197440**(1/22)*I*sin(pi/22)*cos(pi/11)/34, -543361077710752838169347099197440**(1/22)*cos(pi/22)*cos(2*pi/11)/34 - 543361077710752838169347099197440**(1/22)*sin(pi/22)*sin(2*pi/11)/34 - 543361077710752838169347099197440**(1/22)*I*sin(pi/22)*cos(2*pi/11)/34 + 543361077710752838169347099197440**(1/22)*I*sin(2*pi/11)*cos(pi/22)/34, -543361077710752838169347099197440**(1/22)*cos(pi/22)*cos(2*pi/11)/34 + 543361077710752838169347099197440**(1/22)*sin(pi/22)*sin(2*pi/11)/34 - 543361077710752838169347099197440**(1/22)*I*sin(2*pi/11)*cos(pi/22)/34 - 543361077710752838169347099197440**(1/22)*I*sin(pi/22)*cos(2*pi/11)/34, -543361077710752838169347099197440**(1/22)*cos(pi/22)*cos(3*pi/11)/34 - 543361077710752838169347099197440**(1/22)*sin(pi/22)*sin(3*pi/11)/34 - 543361077710752838169347099197440**(1/22)*I*sin(pi/22)*cos(3*pi/11)/34 + 543361077710752838169347099197440**(1/22)*I*sin(3*pi/11)*cos(pi/22)/34, -543361077710752838169347099197440**(1/22)*cos(pi/22)*cos(3*pi/11)/34 + 543361077710752838169347099197440**(1/22)*sin(pi/22)*sin(3*pi/11)/34 - 543361077710752838169347099197440**(1/22)*I*sin(3*pi/11)*cos(pi/22)/34 - 543361077710752838169347099197440**(1/22)*I*sin(pi/22)*cos(3*pi/11)/34, -543361077710752838169347099197440**(1/22)*cos(pi/22)*cos(4*pi/11)/34 - 543361077710752838169347099197440**(1/22)*sin(pi/22)*sin(4*pi/11)/34 - 543361077710752838169347099197440**(1/22)*I*sin(pi/22)*cos(4*pi/11)/34 + 543361077710752838169347099197440**(1/22)*I*sin(4*pi/11)*cos(pi/22)/34, -543361077710752838169347099197440**(1/22)*cos(pi/22)*cos(4*pi/11)/34 + 543361077710752838169347099197440**(1/22)*sin(pi/22)*sin(4*pi/11)/34 - 543361077710752838169347099197440**(1/22)*I*sin(4*pi/11)*cos(pi/22)/34 - 543361077710752838169347099197440**(1/22)*I*sin(pi/22)*cos(4*pi/11)/34, -543361077710752838169347099197440**(1/22)*cos(pi/22)*cos(5*pi/11)/34 - 543361077710752838169347099197440**(1/22)*sin(pi/22)*sin(5*pi/11)/34 - 543361077710752838169347099197440**(1/22)*I*sin(pi/22)*cos(5*pi/11)/34 + 543361077710752838169347099197440**(1/22)*I*sin(5*pi/11)*cos(pi/22)/34, -543361077710752838169347099197440**(1/22)*cos(pi/22)*cos(5*pi/11)/34 + 543361077710752838169347099197440**(1/22)*sin(pi/22)*sin(5*pi/11)/34 - 543361077710752838169347099197440**(1/22)*I*sin(5*pi/11)*cos(pi/22)/34 - 543361077710752838169347099197440**(1/22)*I*sin(pi/22)*cos(5*pi/11)/34, 543361077710752838169347099197440**(1/22)*cos(pi/22)*cos(5*pi/11)/34 + 543361077710752838169347099197440**(1/22)*sin(pi/22)*sin(5*pi/11)/34 - 543361077710752838169347099197440**(1/22)*I*sin(5*pi/11)*cos(pi/22)/34 + 543361077710752838169347099197440**(1/22)*I*sin(pi/22)*cos(5*pi/11)/34]'"
            ],
            "application/vnd.google.colaboratory.intrinsic+json": {
              "type": "string"
            }
          },
          "metadata": {},
          "execution_count": 21
        }
      ]
    },
    {
      "cell_type": "markdown",
      "source": [
        "### Внимание! Далее все задания необходимо выполнять для ВСЕХ функций из задания 1!\n",
        "\n",
        "## Задание 5 (1 балл)"
      ],
      "metadata": {
        "id": "4jMFe3pOZH1v"
      }
    },
    {
      "cell_type": "markdown",
      "source": [
        "Постройте графики функций из задания 1 в Python (не забудьте подписать оси и сами графики):\n",
        "*   изобразите графики с подписанными осями\n",
        "*   отметьте одним цветом локальные экстремумы\n",
        "*   отметьте другим цветом точки перегиба\n",
        "*   подпишите на оси x значения экстремумов и точек перегиба\n",
        "\n",
        "P.S. Для того, чтобы отметить точку на графике, вам понадобится функция (plt.scatter), а для того, чтобы подписать её значение на оси (plt.annotate)."
      ],
      "metadata": {
        "id": "1c0KRFwsZXkd"
      }
    },
    {
      "cell_type": "markdown",
      "source": [
        "Пример хорошего графика:\n",
        "\n",
        "![good_graph.png](data:image/png;base64,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)"
      ],
      "metadata": {
        "id": "VvwflbXqdeX-"
      }
    },
    {
      "cell_type": "code",
      "source": [
        "import matplotlib.pyplot as plt\n",
        "%matplotlib inline"
      ],
      "metadata": {
        "id": "pa_gsDKmZuzK"
      },
      "execution_count": 22,
      "outputs": []
    },
    {
      "cell_type": "code",
      "source": [
        "def f(x):\n",
        "  return x**2 - 30*x + 1"
      ],
      "metadata": {
        "id": "6_IkXAyTJetw"
      },
      "execution_count": 23,
      "outputs": []
    },
    {
      "cell_type": "code",
      "source": [
        "import numpy as np\n",
        "\n",
        "\n",
        "x_values = np.linspace(-100, 125, 150)\n",
        "\n",
        "f_values = [f(x) for x in x_values] # список значений функции\n",
        "\n",
        "plt.figure(figsize=(7,7))\n",
        "plt.axvline(x=0, c = 'black')\n",
        "plt.axhline(y=0, c = 'black')\n",
        "plt.title('График функции f(x)')\n",
        "plt.xlabel('x')\n",
        "plt.ylabel('f(x)')\n",
        "plt.plot(x_values, f_values)"
      ],
      "metadata": {
        "id": "7DpLc6bnJRkv",
        "outputId": "38756cf8-99b9-4435-98a8-c579c53346ab",
        "colab": {
          "base_uri": "https://localhost:8080/",
          "height": 658
        }
      },
      "execution_count": 39,
      "outputs": [
        {
          "output_type": "execute_result",
          "data": {
            "text/plain": [
              "[<matplotlib.lines.Line2D at 0x7d9b2cd8ece0>]"
            ]
          },
          "metadata": {},
          "execution_count": 39
        },
        {
          "output_type": "display_data",
          "data": {
            "text/plain": [
              "<Figure size 700x700 with 1 Axes>"
            ],
            "image/png": "[encoded data removed]"
          },
          "metadata": {}
        }
      ]
    },
    {
      "cell_type": "markdown",
      "source": [
        "## Задание 6 (1 балл)"
      ],
      "metadata": {
        "id": "k29YfLmyZH4h"
      }
    },
    {
      "cell_type": "markdown",
      "source": [
        "Модифицируйте функцию, осуществляющую метод градиентного спуска с семинара: добавьте опцию останавливать метод, если абсолютное значение производной функции в точке < некоторого $\\delta$ (delta добавьте в аргументы функции)."
      ],
      "metadata": {
        "id": "i5DeYzEWZYOw"
      }
    },
    {
      "cell_type": "code",
      "source": [
        "# your code here"
      ],
      "metadata": {
        "id": "EEubK6KaZxUh"
      },
      "execution_count": null,
      "outputs": []
    },
    {
      "cell_type": "markdown",
      "source": [
        "## Задание 7 (1 балл)"
      ],
      "metadata": {
        "id": "MH60U5sxZH7O"
      }
    },
    {
      "cell_type": "markdown",
      "source": [
        "Подберите начальное приближение (сделайте несколько запусков из случайной начальной точки) и шаг градиентного спуска таким образом, чтобы процедура выдавала правильное значение наименьшего локального минимума функций (если он есть):\n",
        "- [ ] в качестве результата выведите на экран значение начального приближения ($x_0$), `learning_rate`\n",
        "- [ ] нарисуйте график функции и изобразите на нём наименьший из найденных локальных минимумов; на оси $x$ подпишите значение этого минимума. \\\n",
        "(Постарайтесь сделать реализацию графика в виде функции, чтобы оптимизировать процесс. Потом функция понадобится вам в задании 9, но это не обязательное требование).\n",
        "- [ ] если такой точки у функции нет, поясните это текстом при помощи Markdown"
      ],
      "metadata": {
        "id": "Z9xZTUGTZYrU"
      }
    },
    {
      "cell_type": "code",
      "source": [
        "# your code here"
      ],
      "metadata": {
        "id": "KZDLoN1hak2V"
      },
      "execution_count": null,
      "outputs": []
    },
    {
      "cell_type": "markdown",
      "source": [
        "## Задание 8 (1.5 балла)"
      ],
      "metadata": {
        "id": "FRZm6iyxZH9e"
      }
    },
    {
      "cell_type": "markdown",
      "source": [
        "Реализуйте [метод Ньютона](https://en.wikipedia.org/wiki/Newton%27s_method_in_optimization) (метод второго порядка) для поиска минимума функции.\n",
        "\n",
        "Про метод ещё можно почитать [здесь](https://math.semestr.ru/optim/minimum.php)."
      ],
      "metadata": {
        "id": "nHqTeM3cZZfI"
      }
    },
    {
      "cell_type": "code",
      "source": [
        "# your code here"
      ],
      "metadata": {
        "id": "LWDkB7H_aj_e"
      },
      "execution_count": null,
      "outputs": []
    },
    {
      "cell_type": "markdown",
      "source": [
        "## Задание 9 (0.5 балла)"
      ],
      "metadata": {
        "id": "--7xCYepZIAA"
      }
    },
    {
      "cell_type": "markdown",
      "source": [
        "Примените метод Ньютона для поиска минимума указанных функций (в ответе выведите подходящее значение начальной точки, график с найденным и подписанным значением минимума, как в задании 7)."
      ],
      "metadata": {
        "id": "omFeD-OnZdK_"
      }
    },
    {
      "cell_type": "code",
      "source": [
        "# your code here"
      ],
      "metadata": {
        "id": "8XJtp65GajsA"
      },
      "execution_count": null,
      "outputs": []
    },
    {
      "cell_type": "markdown",
      "source": [
        "## Задание 10 (1 балл)"
      ],
      "metadata": {
        "id": "Csc35WqLZcuM"
      }
    },
    {
      "cell_type": "markdown",
      "source": [
        "Сравните скорость работы градиентного спуска и метода Ньютона при одинаковой точности решения $|x_{found}-x_{true}|<10^{-5}$:\n",
        "* за сколько итераций каждый метод сходится (в среднем по всем функциям для правильно подобранных значений гиперпараметров)? Какой быстрее?\n",
        "* какой метод дает более точный результат при фиксированном числе итераций $N=10$? (для ответа на этот вопрос добавьте в процедуру градиентного спуска возможность останавливаться при достижении некоторого количества итераций $N$)"
      ],
      "metadata": {
        "id": "02XtrZOWaGBg"
      }
    },
    {
      "cell_type": "code",
      "source": [
        "# your code here"
      ],
      "metadata": {
        "id": "Qap0G9_mPIAB"
      },
      "execution_count": null,
      "outputs": []
    },
    {
      "cell_type": "markdown",
      "source": [
        "## **Бонусная часть**"
      ],
      "metadata": {
        "id": "VR1PowUlHYvM"
      }
    },
    {
      "cell_type": "markdown",
      "source": [
        "## Задание 11 (1 балл)"
      ],
      "metadata": {
        "id": "9UwHkl25SJcI"
      }
    },
    {
      "cell_type": "markdown",
      "source": [
        "Реализуйте оптимизацию метода градиентного спуска - Momentum. Необходимые выкладки вы можете подсмотреть [здесь](https://education.yandex.ru/handbook/ml/article/optimizaciya-v-ml)."
      ],
      "metadata": {
        "id": "-si8S2A4aOFY"
      }
    },
    {
      "cell_type": "code",
      "source": [
        "# your code here"
      ],
      "metadata": {
        "id": "M1KTpeIiSR1w"
      },
      "execution_count": null,
      "outputs": []
    },
    {
      "cell_type": "markdown",
      "source": [
        "## Задание 12 (0.5 балла)"
      ],
      "metadata": {
        "id": "Z_W6L2FkSt6I"
      }
    },
    {
      "cell_type": "markdown",
      "source": [
        "Проверьте, решает ли Momentum GD проблему поиска начального приближения для функций из задания 1?"
      ],
      "metadata": {
        "id": "t7vgdURyaWRm"
      }
    },
    {
      "cell_type": "code",
      "source": [
        "# your code here"
      ],
      "metadata": {
        "id": "iV0f9MpYSz2-"
      },
      "execution_count": null,
      "outputs": []
    },
    {
      "cell_type": "markdown",
      "source": [
        "## **Часть Котобонус** 🐈\n",
        "\n",
        "Ура-ура, с вами снова кот, который может добавить вам баллы!\n",
        "- 0.25, если вы угадаете, чей он\n",
        "- 0.05 если просто предположите\n",
        "\n",
        "**Подсказка:** кот одной из наших замечательных ассистенток!\n",
        "\n",
        "\n",
        "[Кайфующий кот](https://ibb.co/12WN7wg)"
      ],
      "metadata": {
        "id": "-ou9BQUPD_QI"
      }
    }
  ]
}